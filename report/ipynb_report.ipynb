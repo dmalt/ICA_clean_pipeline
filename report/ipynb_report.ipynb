{
  {
   "cell_type": "code",
   "execution_count": 1,
   "metadata": {
    "collapsed": false
   },
   "outputs": [
    {
     "name": "stdout",
     "output_type": "stream",
     "text": [
      "Once deleted, variables cannot be recovered. Proceed (y/[n])? y\n"
     ]
    }
   ],
   "source": [
    "%reset"
   ]
  },
  {
   "cell_type": "code",
   "execution_count": 1,
   "metadata": {
    "collapsed": false
   },
   "outputs": [
    {
     "data": {
      "text/plain": [
       "u'/home/dmalt/Dropbox/Programming/Python/cocolab/my_pipeline/report'"
      ]
     },
     "execution_count": 1,
     "metadata": {},
     "output_type": "execute_result"
    }
   ],
   "source": [
    "pwd"
   ]
  },
  {
   "cell_type": "code",
   "execution_count": 5,
   "metadata": {
    "collapsed": false
   },
   "outputs": [
    {
     "ename": "SyntaxError",
     "evalue": "invalid syntax (<ipython-input-5-1d89e827091c>, line 6)",
     "output_type": "error",
     "traceback": [
      "\u001b[1;36m  File \u001b[1;32m\"<ipython-input-5-1d89e827091c>\"\u001b[1;36m, line \u001b[1;32m6\u001b[0m\n\u001b[1;33m    run report_imports\u001b[0m\n\u001b[1;37m                     ^\u001b[0m\n\u001b[1;31mSyntaxError\u001b[0m\u001b[1;31m:\u001b[0m invalid syntax\n"
     ]
    }
   ],
   "source": [
    "# %matplotlib notebook\n",
    "# %matplotlib inline\n",
    "# import warnings\n",
    "# warnings.filterwarnings('ignore')\n",
    "# import report_imports\n",
    "run report_imports"
   ]
  },
  {
   "cell_type": "code",
   "execution_count": 8,
   "metadata": {
    "collapsed": false
   },
   "outputs": [
    {
     "ename": "SyntaxError",
     "evalue": "invalid syntax (report_imports.py, line 1)",
     "output_type": "error",
     "traceback": [
      "\u001b[1;36m  File \u001b[1;32m\"/home/dmalt/Dropbox/Programming/Python/cocolab/my_pipeline/report/report_imports.py\"\u001b[1;36m, line \u001b[1;32m1\u001b[0m\n\u001b[1;33m    from ../params import subject_ids\u001b[0m\n\u001b[1;37m           ^\u001b[0m\n\u001b[1;31mSyntaxError\u001b[0m\u001b[1;31m:\u001b[0m invalid syntax\n"
     ]
    }
   ],
   "source": [
    "run report_imports"
   ]
  },
  {
   "cell_type": "markdown",
   "metadata": {},
   "source": [
    "## Choose subject ID:"
   ]
  },
  {
   "cell_type": "code",
   "execution_count": 9,
   "metadata": {
    "collapsed": false
   },
   "outputs": [],
   "source": [
    "name_sel = widgets.Select(\n",
    "    description='Subject ID:',\n",
    "    options=subject_ids\n",
    "#     value='R0028'\n",
    ")\n",
    "display(name_sel)\n",
    "\n",
    "cond_sel = widgets.RadioButtons(\n",
    "    description='Condition:',\n",
    "    options=['Eyes closed', 'Eyes open'],\n",
    ")\n",
    "display(cond_sel)"
   ]
  },
  {
   "cell_type": "code",
   "execution_count": 16,
   "metadata": {
    "collapsed": false
   },
   "outputs": [],
   "source": [
    "%%capture\n",
    "if cond_sel.value == 'Eyes closed':\n",
    "    cond = 'ec'\n",
    "elif cond_sel.value == 'Eyes open':\n",
    "    cond = 'eo'\n",
    "subj_ID = name_sel.value\n",
    "\n",
    "##### Set home directory #########\n",
    "if getpass.getuser() == 'meg':\n",
    "    home_dir = '/home/meg'\n",
    "elif getpass.getuser() == 'dmalt':\n",
    "    home_dir = '/home/dmalt'\n",
    "elif getpass.getuser() == 'karim':\n",
    "    home_dir = '/home/karim'\n",
    "# ------------------------------ #\n",
    "\n",
    "#### Set path to the data folder (MEG and MEG 2016) ###\n",
    "main_path = home_dir + '/Dropbox/aut_gamma/'\n",
    "# --------------------------------------------------- #\n",
    "\n",
    "data_path = main_path + 'MEG/' + subj_ID\n",
    "results_path = main_path + 'MEG2016/' + subj_ID\n",
    "basename = subj_ID + '_rest_raw_tsss_mc_trans_' + cond\n",
    "# basename = subj_ID + '_rest_raw_tsss_mc_' + cond\n",
    "fif_file = results_path + '/' + basename + '.fif'\n",
    "ica_file = results_path + '/' + basename + '-ica.fif'\n",
    "ica_TC_file = results_path + '/' + basename + '_ica_timecourse.fif'\n",
    "raw_ica_filename = results_path + '/' + basename + \"_ica_raw.fif\"\n",
    "report_path = results_path + '/' + basename + \"-report.html\"\n",
    "log_filename = results_path + '/' + basename + '_ica.log'\n",
    "# Load data\n",
    "raw = Raw(fif_file, preload=True)\n",
    "ica = read_ica(ica_file)\n",
    "ica.labels_ = dict()\n",
    "ica_TC = Raw(ica_TC_file, preload=True)\n",
    "ecg_chname, eog_chnames = get_ECG_EOG_chnames_by_SubjID(subj_ID)\n",
    "eog_chnames = eog_chnames.split(',')"
   ]
  },
  {
   "cell_type": "code",
   "execution_count": 12,
   "metadata": {
    "collapsed": false
   },
   "outputs": [],
   "source": [
    "# Read log and extract suggested ICs to exclude\n",
    "ecg_inds_log= []\n",
    "eog_inds_log = []\n",
    "muscle_inds_log = []\n",
    "if os.path.isfile(log_filename):\n",
    "    log = open(log_filename, 'r')\n",
    "    log_lines = log.readlines()[:-3]\n",
    "    log.close()\n",
    "    import re\n",
    "\n",
    "    inds = []\n",
    "    for log_line in log_lines:\n",
    "        # match = re.findall(r'(\\[|,\\s?)(\\d*)(,\\s?|\\])', line)\n",
    "        match = re.search(r'((EOG|ECG|Muscles)).*', log_line)\n",
    "        if match:\n",
    "            IC_type = match.group(1)\n",
    "            exclude =  match.group()\n",
    "            ICs = re.findall(r'\\d+', exclude)\n",
    "            if ICs:\n",
    "#                 print ICs\n",
    "                for entry in ICs:\n",
    "                    inds.append(int(entry))\n",
    "                print \"Components from report: \" + str(inds)\n",
    "\n",
    "                if IC_type == 'ECG':\n",
    "                    ecg_inds_log = inds[:]\n",
    "                elif IC_type == 'EOG':\n",
    "                    eog_inds_log = inds[:]\n",
    "#                 elif IC_type == 'Muscles':\n",
    "#                     muscle_inds_log = inds\n",
    "                inds = []"
   ]
  },
  {
   "cell_type": "code",
   "execution_count": 17,
   "metadata": {
    "collapsed": false
   },
   "outputs": [
    {
     "name": "stdout",
     "output_type": "stream",
     "text": [
      "Number of ICA components: 60\n"
     ]
    }
   ],
   "source": [
    "third_N = ica.n_components_ / 3 + 1\n",
    "print \"Number of ICA components: \" + str(ica.n_components_)\n",
    "sel_range = range(third_N)\n",
    "\n",
    "comp_sel_ecg = [ widgets.SelectMultiple(\n",
    "#     description=\"(ECG): \",\n",
    "    options= [ j + third_N * i for j in sel_range if j + third_N * i < ica.n_components_],\n",
    "    width='68px',\n",
    "    height=str(18 * third_N) + 'px',\n",
    ") for i in range(3) ]\n",
    "\n",
    "\n",
    "\n",
    "comp_sel_eog = [ widgets.SelectMultiple(\n",
    "#     description=\"(ECG): \",\n",
    "    options= [j + third_N * i for j in sel_range if j + third_N * i < ica.n_components_],\n",
    "    width='68px',\n",
    "    height=str(18 * third_N) + 'px',\n",
    ") for i in range(3) ]\n",
    "\n",
    "comp_sel_emg = [ widgets.SelectMultiple(\n",
    "#     description=\"(ECG): \",\n",
    "    options= [j + third_N * i for j in sel_range if j + third_N * i < ica.n_components_],\n",
    "    width='68px',\n",
    "    height=str(18 * third_N) + 'px',\n",
    ") for i in range(3) ]\n",
    "\n",
    "for i in range(3):\n",
    "    comp_sel_ecg[i].value = value=[k for k in ecg_inds_log if third_N * i <= k < third_N * (i + 1) ]\n",
    "    comp_sel_eog[i].value = value=[k for k in eog_inds_log if third_N * i <= k < third_N * (i + 1) ]\n",
    "    comp_sel_emg[i].value = []\n",
    "\n",
    "\n",
    "    \n",
    "def on_button_clicked(b):\n",
    "    if b.sel == 'ecg':\n",
    "        comp_sel_ecg[b.num].value = []\n",
    "    elif b.sel == 'eog':\n",
    "        comp_sel_eog[b.num].value = []\n",
    "    elif b.sel == 'emg':\n",
    "        comp_sel_emg[b.num].value = []\n",
    "        \n",
    "from ipywidgets.widgets import HBox, VBox\n",
    "buttons_ecg = [widgets.Button(description='Clear ECG ' + str(i + 1), width='93px', sel='ecg', num=i) for i in range(3)]\n",
    "buttons_eog = [widgets.Button(description='Clear EOG ' + str(i + 1), width='93px', sel='eog', num=i) for i in range(3)]\n",
    "buttons_emg = [widgets.Button(description='Clear EMG ' + str(i + 1), width='93px', sel='emg', num=i) for i in range(3)]\n",
    "\n",
    "header_ecg = widgets.HTML(value='<h2>ECG components</h2>')\n",
    "header_eog = widgets.HTML(value='<h2>EOG components</h2>')\n",
    "header_emg = widgets.HTML(value='<h2>EMG components</h2>')\n",
    "\n",
    "box_ecg = VBox([header_ecg] + [HBox(buttons_ecg)] + [HBox(comp_sel_ecg)])\n",
    "box_eog = VBox([header_eog] +[HBox(buttons_eog)] + [HBox(comp_sel_eog)])\n",
    "box_emg = VBox([header_emg] +[HBox(buttons_emg)] + [HBox(comp_sel_emg)])\n",
    "box_ecg.border_style = 'dotted'\n",
    "box_ecg.border_radius = '16px'\n",
    "\n",
    "box_eog.border_style = 'dotted'\n",
    "box_eog.border_radius = '16px'\n",
    "box_emg.border_style = 'dotted'\n",
    "box_emg.border_radius = '16px'\n",
    "# box_ecg.background_color ='cyan'\n",
    "box = HBox([box_ecg, box_eog, box_emg])"
   ]
  },
  {
   "cell_type": "markdown",
   "metadata": {},
   "source": [
    "## Cell below opens an html report in a web-browser"
   ]
  },
  {
   "cell_type": "code",
   "execution_count": 8,
   "metadata": {
    "collapsed": false
   },
   "outputs": [
    {
     "name": "stdout",
     "output_type": "stream",
     "text": [
      "Created new window in existing browser session.\n"
     ]
    }
   ],
   "source": [
    "%%bash -s \"$report_path\"\n",
    "google-chrome -new-window $1"
   ]
  },
  {
   "cell_type": "markdown",
   "metadata": {},
   "source": [
    "## Keyboard shortcuts for raw file viewer\n",
    "--------------\n",
    "|Command               | Action                       |\n",
    "|----------------------|------------------------------|\n",
    "|<b>left_arrow</b>    | navigate left |\n",
    "|<b>right_arrow</b>   | navigate right |\n",
    "|<b>down_arrow</b>    | navigate channels down |\n",
    "|<b>up_arrow</b>      | navigate channels up     |\n",
    "|<b>-</b>             | scale down               |\n",
    "|<b>+ or =</b>        | scale up                 |\n",
    "|<b>Home</b>        | Reduce the time shown per view   |\n",
    "|<b>End</b>        | Icrease the time shown per view    |\n",
    "|<b>Page down</b>        | Reduce the number of channels per view   |\n",
    "|<b>Page up</b>        | Increse the number of channels per view  |\n",
    "|<b>F11 </b>        | Toggle fullscrean mode |\n",
    "\n",
    "### Mouse controls\n",
    "----\n",
    "|Command | Action | \n",
    "| --- | --- |\n",
    "|<b>click on data:</b>      | mark bad channel     |\n",
    "|<b>click elsewhere in the plot:</b>    | vertical line at a time instant    |\n",
    "|<b>click channel name:</b>    | mark bad channel    |"
   ]
  },
  {
   "cell_type": "code",
   "execution_count": 18,
   "metadata": {
    "collapsed": true
   },
   "outputs": [],
   "source": [
    "# %%capture\n",
    "freq_range = widgets.FloatRangeSlider(description='Bandpass filter range (Hz):', value=(0.,40.))\n",
    "display(freq_range)"
   ]
  },
  {
   "cell_type": "code",
   "execution_count": 20,
   "metadata": {
    "collapsed": false
   },
   "outputs": [
    {
     "name": "stdout",
     "output_type": "stream",
     "text": [
      "The copy parameter is deprecated and will be removed in 0.13. In 0.13 the behavior will be to operate in-place (like copy=False). In 0.12 the default is copy=False. Use inst.copy() if necessary.\n",
      "Found multiple filenames. Setting value to `None`\n",
      "Low-pass filtering at 40 Hz\n"
     ]
    },
    {
     "data": {
      "application/javascript": [
       "/* Put everything inside the global mpl namespace */\n",
       "window.mpl = {};\n",
       "\n",
       "mpl.get_websocket_type = function() {\n",
       "    if (typeof(WebSocket) !== 'undefined') {\n",
       "        return WebSocket;\n",
       "    } else if (typeof(MozWebSocket) !== 'undefined') {\n",
       "        return MozWebSocket;\n",
       "    } else {\n",
       "        alert('Your browser does not have WebSocket support.' +\n",
       "              'Please try Chrome, Safari or Firefox ≥ 6. ' +\n",
       "              'Firefox 4 and 5 are also supported but you ' +\n",
       "              'have to enable WebSockets in about:config.');\n",
       "    };\n",
       "}\n",
       "\n",
       "mpl.figure = function(figure_id, websocket, ondownload, parent_element) {\n",
       "    this.id = figure_id;\n",
       "\n",
       "    this.ws = websocket;\n",
       "\n",
       "    this.supports_binary = (this.ws.binaryType != undefined);\n",
       "\n",
       "    if (!this.supports_binary) {\n",
       "        var warnings = document.getElementById(\"mpl-warnings\");\n",
       "        if (warnings) {\n",
       "            warnings.style.display = 'block';\n",
       "            warnings.textContent = (\n",
       "                \"This browser does not support binary websocket messages. \" +\n",
       "                    \"Performance may be slow.\");\n",
       "        }\n",
       "    }\n",
       "\n",
       "    this.imageObj = new Image();\n",
       "\n",
       "    this.context = undefined;\n",
       "    this.message = undefined;\n",
       "    this.canvas = undefined;\n",
       "    this.rubberband_canvas = undefined;\n",
       "    this.rubberband_context = undefined;\n",
       "    this.format_dropdown = undefined;\n",
       "\n",
       "    this.image_mode = 'full';\n",
       "\n",
       "    this.root = $('<div/>');\n",
       "    this._root_extra_style(this.root)\n",
       "    this.root.attr('style', 'display: inline-block');\n",
       "\n",
       "    $(parent_element).append(this.root);\n",
       "\n",
       "    this._init_header(this);\n",
       "    this._init_canvas(this);\n",
       "    this._init_toolbar(this);\n",
       "\n",
       "    var fig = this;\n",
       "\n",
       "    this.waiting = false;\n",
       "\n",
       "    this.ws.onopen =  function () {\n",
       "            fig.send_message(\"supports_binary\", {value: fig.supports_binary});\n",
       "            fig.send_message(\"send_image_mode\", {});\n",
       "            fig.send_message(\"refresh\", {});\n",
       "        }\n",
       "\n",
       "    this.imageObj.onload = function() {\n",
       "            if (fig.image_mode == 'full') {\n",
       "                // Full images could contain transparency (where diff images\n",
       "                // almost always do), so we need to clear the canvas so that\n",
       "                // there is no ghosting.\n",
       "                fig.context.clearRect(0, 0, fig.canvas.width, fig.canvas.height);\n",
       "            }\n",
       "            fig.context.drawImage(fig.imageObj, 0, 0);\n",
       "            fig.waiting = false;\n",
       "        };\n",
       "\n",
       "    this.imageObj.onunload = function() {\n",
       "        this.ws.close();\n",
       "    }\n",
       "\n",
       "    this.ws.onmessage = this._make_on_message_function(this);\n",
       "\n",
       "    this.ondownload = ondownload;\n",
       "}\n",
       "\n",
       "mpl.figure.prototype._init_header = function() {\n",
       "    var titlebar = $(\n",
       "        '<div class=\"ui-dialog-titlebar ui-widget-header ui-corner-all ' +\n",
       "        'ui-helper-clearfix\"/>');\n",
       "    var titletext = $(\n",
       "        '<div class=\"ui-dialog-title\" style=\"width: 100%; ' +\n",
       "        'text-align: center; padding: 3px;\"/>');\n",
       "    titlebar.append(titletext)\n",
       "    this.root.append(titlebar);\n",
       "    this.header = titletext[0];\n",
       "}\n",
       "\n",
       "\n",
       "\n",
       "mpl.figure.prototype._canvas_extra_style = function(canvas_div) {\n",
       "\n",
       "}\n",
       "\n",
       "\n",
       "mpl.figure.prototype._root_extra_style = function(canvas_div) {\n",
       "\n",
       "}\n",
       "\n",
       "mpl.figure.prototype._init_canvas = function() {\n",
       "    var fig = this;\n",
       "\n",
       "    var canvas_div = $('<div/>');\n",
       "\n",
       "    canvas_div.attr('style', 'position: relative; clear: both; outline: 0');\n",
       "\n",
       "    function canvas_keyboard_event(event) {\n",
       "        return fig.key_event(event, event['data']);\n",
       "    }\n",
       "\n",
       "    canvas_div.keydown('key_press', canvas_keyboard_event);\n",
       "    canvas_div.keyup('key_release', canvas_keyboard_event);\n",
       "    this.canvas_div = canvas_div\n",
       "    this._canvas_extra_style(canvas_div)\n",
       "    this.root.append(canvas_div);\n",
       "\n",
       "    var canvas = $('<canvas/>');\n",
       "    canvas.addClass('mpl-canvas');\n",
       "    canvas.attr('style', \"left: 0; top: 0; z-index: 0; outline: 0\")\n",
       "\n",
       "    this.canvas = canvas[0];\n",
       "    this.context = canvas[0].getContext(\"2d\");\n",
       "\n",
       "    var rubberband = $('<canvas/>');\n",
       "    rubberband.attr('style', \"position: absolute; left: 0; top: 0; z-index: 1;\")\n",
       "\n",
       "    var pass_mouse_events = true;\n",
       "\n",
       "    canvas_div.resizable({\n",
       "        start: function(event, ui) {\n",
       "            pass_mouse_events = false;\n",
       "        },\n",
       "        resize: function(event, ui) {\n",
       "            fig.request_resize(ui.size.width, ui.size.height);\n",
       "        },\n",
       "        stop: function(event, ui) {\n",
       "            pass_mouse_events = true;\n",
       "            fig.request_resize(ui.size.width, ui.size.height);\n",
       "        },\n",
       "    });\n",
       "\n",
       "    function mouse_event_fn(event) {\n",
       "        if (pass_mouse_events)\n",
       "            return fig.mouse_event(event, event['data']);\n",
       "    }\n",
       "\n",
       "    rubberband.mousedown('button_press', mouse_event_fn);\n",
       "    rubberband.mouseup('button_release', mouse_event_fn);\n",
       "    // Throttle sequential mouse events to 1 every 20ms.\n",
       "    rubberband.mousemove('motion_notify', mouse_event_fn);\n",
       "\n",
       "    rubberband.mouseenter('figure_enter', mouse_event_fn);\n",
       "    rubberband.mouseleave('figure_leave', mouse_event_fn);\n",
       "\n",
       "    canvas_div.on(\"wheel\", function (event) {\n",
       "        event = event.originalEvent;\n",
       "        event['data'] = 'scroll'\n",
       "        if (event.deltaY < 0) {\n",
       "            event.step = 1;\n",
       "        } else {\n",
       "            event.step = -1;\n",
       "        }\n",
       "        mouse_event_fn(event);\n",
       "    });\n",
       "\n",
       "    canvas_div.append(canvas);\n",
       "    canvas_div.append(rubberband);\n",
       "\n",
       "    this.rubberband = rubberband;\n",
       "    this.rubberband_canvas = rubberband[0];\n",
       "    this.rubberband_context = rubberband[0].getContext(\"2d\");\n",
       "    this.rubberband_context.strokeStyle = \"#000000\";\n",
       "\n",
       "    this._resize_canvas = function(width, height) {\n",
       "        // Keep the size of the canvas, canvas container, and rubber band\n",
       "        // canvas in synch.\n",
       "        canvas_div.css('width', width)\n",
       "        canvas_div.css('height', height)\n",
       "\n",
       "        canvas.attr('width', width);\n",
       "        canvas.attr('height', height);\n",
       "\n",
       "        rubberband.attr('width', width);\n",
       "        rubberband.attr('height', height);\n",
       "    }\n",
       "\n",
       "    // Set the figure to an initial 600x600px, this will subsequently be updated\n",
       "    // upon first draw.\n",
       "    this._resize_canvas(600, 600);\n",
       "\n",
       "    // Disable right mouse context menu.\n",
       "    $(this.rubberband_canvas).bind(\"contextmenu\",function(e){\n",
       "        return false;\n",
       "    });\n",
       "\n",
       "    function set_focus () {\n",
       "        canvas.focus();\n",
       "        canvas_div.focus();\n",
       "    }\n",
       "\n",
       "    window.setTimeout(set_focus, 100);\n",
       "}\n",
       "\n",
       "mpl.figure.prototype._init_toolbar = function() {\n",
       "    var fig = this;\n",
       "\n",
       "    var nav_element = $('<div/>')\n",
       "    nav_element.attr('style', 'width: 100%');\n",
       "    this.root.append(nav_element);\n",
       "\n",
       "    // Define a callback function for later on.\n",
       "    function toolbar_event(event) {\n",
       "        return fig.toolbar_button_onclick(event['data']);\n",
       "    }\n",
       "    function toolbar_mouse_event(event) {\n",
       "        return fig.toolbar_button_onmouseover(event['data']);\n",
       "    }\n",
       "\n",
       "    for(var toolbar_ind in mpl.toolbar_items) {\n",
       "        var name = mpl.toolbar_items[toolbar_ind][0];\n",
       "        var tooltip = mpl.toolbar_items[toolbar_ind][1];\n",
       "        var image = mpl.toolbar_items[toolbar_ind][2];\n",
       "        var method_name = mpl.toolbar_items[toolbar_ind][3];\n",
       "\n",
       "        if (!name) {\n",
       "            // put a spacer in here.\n",
       "            continue;\n",
       "        }\n",
       "        var button = $('<button/>');\n",
       "        button.addClass('ui-button ui-widget ui-state-default ui-corner-all ' +\n",
       "                        'ui-button-icon-only');\n",
       "        button.attr('role', 'button');\n",
       "        button.attr('aria-disabled', 'false');\n",
       "        button.click(method_name, toolbar_event);\n",
       "        button.mouseover(tooltip, toolbar_mouse_event);\n",
       "\n",
       "        var icon_img = $('<span/>');\n",
       "        icon_img.addClass('ui-button-icon-primary ui-icon');\n",
       "        icon_img.addClass(image);\n",
       "        icon_img.addClass('ui-corner-all');\n",
       "\n",
       "        var tooltip_span = $('<span/>');\n",
       "        tooltip_span.addClass('ui-button-text');\n",
       "        tooltip_span.html(tooltip);\n",
       "\n",
       "        button.append(icon_img);\n",
       "        button.append(tooltip_span);\n",
       "\n",
       "        nav_element.append(button);\n",
       "    }\n",
       "\n",
       "    var fmt_picker_span = $('<span/>');\n",
       "\n",
       "    var fmt_picker = $('<select/>');\n",
       "    fmt_picker.addClass('mpl-toolbar-option ui-widget ui-widget-content');\n",
       "    fmt_picker_span.append(fmt_picker);\n",
       "    nav_element.append(fmt_picker_span);\n",
       "    this.format_dropdown = fmt_picker[0];\n",
       "\n",
       "    for (var ind in mpl.extensions) {\n",
       "        var fmt = mpl.extensions[ind];\n",
       "        var option = $(\n",
       "            '<option/>', {selected: fmt === mpl.default_extension}).html(fmt);\n",
       "        fmt_picker.append(option)\n",
       "    }\n",
       "\n",
       "    // Add hover states to the ui-buttons\n",
       "    $( \".ui-button\" ).hover(\n",
       "        function() { $(this).addClass(\"ui-state-hover\");},\n",
       "        function() { $(this).removeClass(\"ui-state-hover\");}\n",
       "    );\n",
       "\n",
       "    var status_bar = $('<span class=\"mpl-message\"/>');\n",
       "    nav_element.append(status_bar);\n",
       "    this.message = status_bar[0];\n",
       "}\n",
       "\n",
       "mpl.figure.prototype.request_resize = function(x_pixels, y_pixels) {\n",
       "    // Request matplotlib to resize the figure. Matplotlib will then trigger a resize in the client,\n",
       "    // which will in turn request a refresh of the image.\n",
       "    this.send_message('resize', {'width': x_pixels, 'height': y_pixels});\n",
       "}\n",
       "\n",
       "mpl.figure.prototype.send_message = function(type, properties) {\n",
       "    properties['type'] = type;\n",
       "    properties['figure_id'] = this.id;\n",
       "    this.ws.send(JSON.stringify(properties));\n",
       "}\n",
       "\n",
       "mpl.figure.prototype.send_draw_message = function() {\n",
       "    if (!this.waiting) {\n",
       "        this.waiting = true;\n",
       "        this.ws.send(JSON.stringify({type: \"draw\", figure_id: this.id}));\n",
       "    }\n",
       "}\n",
       "\n",
       "\n",
       "mpl.figure.prototype.handle_save = function(fig, msg) {\n",
       "    var format_dropdown = fig.format_dropdown;\n",
       "    var format = format_dropdown.options[format_dropdown.selectedIndex].value;\n",
       "    fig.ondownload(fig, format);\n",
       "}\n",
       "\n",
       "\n",
       "mpl.figure.prototype.handle_resize = function(fig, msg) {\n",
       "    var size = msg['size'];\n",
       "    if (size[0] != fig.canvas.width || size[1] != fig.canvas.height) {\n",
       "        fig._resize_canvas(size[0], size[1]);\n",
       "        fig.send_message(\"refresh\", {});\n",
       "    };\n",
       "}\n",
       "\n",
       "mpl.figure.prototype.handle_rubberband = function(fig, msg) {\n",
       "    var x0 = msg['x0'];\n",
       "    var y0 = fig.canvas.height - msg['y0'];\n",
       "    var x1 = msg['x1'];\n",
       "    var y1 = fig.canvas.height - msg['y1'];\n",
       "    x0 = Math.floor(x0) + 0.5;\n",
       "    y0 = Math.floor(y0) + 0.5;\n",
       "    x1 = Math.floor(x1) + 0.5;\n",
       "    y1 = Math.floor(y1) + 0.5;\n",
       "    var min_x = Math.min(x0, x1);\n",
       "    var min_y = Math.min(y0, y1);\n",
       "    var width = Math.abs(x1 - x0);\n",
       "    var height = Math.abs(y1 - y0);\n",
       "\n",
       "    fig.rubberband_context.clearRect(\n",
       "        0, 0, fig.canvas.width, fig.canvas.height);\n",
       "\n",
       "    fig.rubberband_context.strokeRect(min_x, min_y, width, height);\n",
       "}\n",
       "\n",
       "mpl.figure.prototype.handle_figure_label = function(fig, msg) {\n",
       "    // Updates the figure title.\n",
       "    fig.header.textContent = msg['label'];\n",
       "}\n",
       "\n",
       "mpl.figure.prototype.handle_cursor = function(fig, msg) {\n",
       "    var cursor = msg['cursor'];\n",
       "    switch(cursor)\n",
       "    {\n",
       "    case 0:\n",
       "        cursor = 'pointer';\n",
       "        break;\n",
       "    case 1:\n",
       "        cursor = 'default';\n",
       "        break;\n",
       "    case 2:\n",
       "        cursor = 'crosshair';\n",
       "        break;\n",
       "    case 3:\n",
       "        cursor = 'move';\n",
       "        break;\n",
       "    }\n",
       "    fig.rubberband_canvas.style.cursor = cursor;\n",
       "}\n",
       "\n",
       "mpl.figure.prototype.handle_message = function(fig, msg) {\n",
       "    fig.message.textContent = msg['message'];\n",
       "}\n",
       "\n",
       "mpl.figure.prototype.handle_draw = function(fig, msg) {\n",
       "    // Request the server to send over a new figure.\n",
       "    fig.send_draw_message();\n",
       "}\n",
       "\n",
       "mpl.figure.prototype.handle_image_mode = function(fig, msg) {\n",
       "    fig.image_mode = msg['mode'];\n",
       "}\n",
       "\n",
       "mpl.figure.prototype.updated_canvas_event = function() {\n",
       "    // Called whenever the canvas gets updated.\n",
       "    this.send_message(\"ack\", {});\n",
       "}\n",
       "\n",
       "// A function to construct a web socket function for onmessage handling.\n",
       "// Called in the figure constructor.\n",
       "mpl.figure.prototype._make_on_message_function = function(fig) {\n",
       "    return function socket_on_message(evt) {\n",
       "        if (evt.data instanceof Blob) {\n",
       "            /* FIXME: We get \"Resource interpreted as Image but\n",
       "             * transferred with MIME type text/plain:\" errors on\n",
       "             * Chrome.  But how to set the MIME type?  It doesn't seem\n",
       "             * to be part of the websocket stream */\n",
       "            evt.data.type = \"image/png\";\n",
       "\n",
       "            /* Free the memory for the previous frames */\n",
       "            if (fig.imageObj.src) {\n",
       "                (window.URL || window.webkitURL).revokeObjectURL(\n",
       "                    fig.imageObj.src);\n",
       "            }\n",
       "\n",
       "            fig.imageObj.src = (window.URL || window.webkitURL).createObjectURL(\n",
       "                evt.data);\n",
       "            fig.updated_canvas_event();\n",
       "            return;\n",
       "        }\n",
       "        else if (typeof evt.data === 'string' && evt.data.slice(0, 21) == \"data:image/png;base64\") {\n",
       "            fig.imageObj.src = evt.data;\n",
       "            fig.updated_canvas_event();\n",
       "            return;\n",
       "        }\n",
       "\n",
       "        var msg = JSON.parse(evt.data);\n",
       "        var msg_type = msg['type'];\n",
       "\n",
       "        // Call the  \"handle_{type}\" callback, which takes\n",
       "        // the figure and JSON message as its only arguments.\n",
       "        try {\n",
       "            var callback = fig[\"handle_\" + msg_type];\n",
       "        } catch (e) {\n",
       "            console.log(\"No handler for the '\" + msg_type + \"' message type: \", msg);\n",
       "            return;\n",
       "        }\n",
       "\n",
       "        if (callback) {\n",
       "            try {\n",
       "                // console.log(\"Handling '\" + msg_type + \"' message: \", msg);\n",
       "                callback(fig, msg);\n",
       "            } catch (e) {\n",
       "                console.log(\"Exception inside the 'handler_\" + msg_type + \"' callback:\", e, e.stack, msg);\n",
       "            }\n",
       "        }\n",
       "    };\n",
       "}\n",
       "\n",
       "// from http://stackoverflow.com/questions/1114465/getting-mouse-location-in-canvas\n",
       "mpl.findpos = function(e) {\n",
       "    //this section is from http://www.quirksmode.org/js/events_properties.html\n",
       "    var targ;\n",
       "    if (!e)\n",
       "        e = window.event;\n",
       "    if (e.target)\n",
       "        targ = e.target;\n",
       "    else if (e.srcElement)\n",
       "        targ = e.srcElement;\n",
       "    if (targ.nodeType == 3) // defeat Safari bug\n",
       "        targ = targ.parentNode;\n",
       "\n",
       "    // jQuery normalizes the pageX and pageY\n",
       "    // pageX,Y are the mouse positions relative to the document\n",
       "    // offset() returns the position of the element relative to the document\n",
       "    var x = e.pageX - $(targ).offset().left;\n",
       "    var y = e.pageY - $(targ).offset().top;\n",
       "\n",
       "    return {\"x\": x, \"y\": y};\n",
       "};\n",
       "\n",
       "mpl.figure.prototype.mouse_event = function(event, name) {\n",
       "    var canvas_pos = mpl.findpos(event)\n",
       "\n",
       "    if (name === 'button_press')\n",
       "    {\n",
       "        this.canvas.focus();\n",
       "        this.canvas_div.focus();\n",
       "    }\n",
       "\n",
       "    var x = canvas_pos.x;\n",
       "    var y = canvas_pos.y;\n",
       "\n",
       "    this.send_message(name, {x: x, y: y, button: event.button,\n",
       "                             step: event.step});\n",
       "\n",
       "    /* This prevents the web browser from automatically changing to\n",
       "     * the text insertion cursor when the button is pressed.  We want\n",
       "     * to control all of the cursor setting manually through the\n",
       "     * 'cursor' event from matplotlib */\n",
       "    event.preventDefault();\n",
       "    return false;\n",
       "}\n",
       "\n",
       "mpl.figure.prototype._key_event_extra = function(event, name) {\n",
       "    // Handle any extra behaviour associated with a key event\n",
       "}\n",
       "\n",
       "mpl.figure.prototype.key_event = function(event, name) {\n",
       "\n",
       "    // Prevent repeat events\n",
       "    if (name == 'key_press')\n",
       "    {\n",
       "        if (event.which === this._key)\n",
       "            return;\n",
       "        else\n",
       "            this._key = event.which;\n",
       "    }\n",
       "    if (name == 'key_release')\n",
       "        this._key = null;\n",
       "\n",
       "    var value = '';\n",
       "    if (event.ctrlKey && event.which != 17)\n",
       "        value += \"ctrl+\";\n",
       "    if (event.altKey && event.which != 18)\n",
       "        value += \"alt+\";\n",
       "    if (event.shiftKey && event.which != 16)\n",
       "        value += \"shift+\";\n",
       "\n",
       "    value += 'k';\n",
       "    value += event.which.toString();\n",
       "\n",
       "    this._key_event_extra(event, name);\n",
       "\n",
       "    this.send_message(name, {key: value});\n",
       "    return false;\n",
       "}\n",
       "\n",
       "mpl.figure.prototype.toolbar_button_onclick = function(name) {\n",
       "    if (name == 'download') {\n",
       "        this.handle_save(this, null);\n",
       "    } else {\n",
       "        this.send_message(\"toolbar_button\", {name: name});\n",
       "    }\n",
       "};\n",
       "\n",
       "mpl.figure.prototype.toolbar_button_onmouseover = function(tooltip) {\n",
       "    this.message.textContent = tooltip;\n",
       "};\n",
       "mpl.toolbar_items = [[\"Home\", \"Reset original view\", \"fa fa-home icon-home\", \"home\"], [\"Back\", \"Back to  previous view\", \"fa fa-arrow-left icon-arrow-left\", \"back\"], [\"Forward\", \"Forward to next view\", \"fa fa-arrow-right icon-arrow-right\", \"forward\"], [\"\", \"\", \"\", \"\"], [\"Pan\", \"Pan axes with left mouse, zoom with right\", \"fa fa-arrows icon-move\", \"pan\"], [\"Zoom\", \"Zoom to rectangle\", \"fa fa-square-o icon-check-empty\", \"zoom\"], [\"\", \"\", \"\", \"\"], [\"Download\", \"Download plot\", \"fa fa-floppy-o icon-save\", \"download\"]];\n",
       "\n",
       "mpl.extensions = [\"eps\", \"jpeg\", \"pdf\", \"png\", \"ps\", \"raw\", \"svg\", \"tif\"];\n",
       "\n",
       "mpl.default_extension = \"png\";var comm_websocket_adapter = function(comm) {\n",
       "    // Create a \"websocket\"-like object which calls the given IPython comm\n",
       "    // object with the appropriate methods. Currently this is a non binary\n",
       "    // socket, so there is still some room for performance tuning.\n",
       "    var ws = {};\n",
       "\n",
       "    ws.close = function() {\n",
       "        comm.close()\n",
       "    };\n",
       "    ws.send = function(m) {\n",
       "        //console.log('sending', m);\n",
       "        comm.send(m);\n",
       "    };\n",
       "    // Register the callback with on_msg.\n",
       "    comm.on_msg(function(msg) {\n",
       "        //console.log('receiving', msg['content']['data'], msg);\n",
       "        // Pass the mpl event to the overriden (by mpl) onmessage function.\n",
       "        ws.onmessage(msg['content']['data'])\n",
       "    });\n",
       "    return ws;\n",
       "}\n",
       "\n",
       "mpl.mpl_figure_comm = function(comm, msg) {\n",
       "    // This is the function which gets called when the mpl process\n",
       "    // starts-up an IPython Comm through the \"matplotlib\" channel.\n",
       "\n",
       "    var id = msg.content.data.id;\n",
       "    // Get hold of the div created by the display call when the Comm\n",
       "    // socket was opened in Python.\n",
       "    var element = $(\"#\" + id);\n",
       "    var ws_proxy = comm_websocket_adapter(comm)\n",
       "\n",
       "    function ondownload(figure, format) {\n",
       "        window.open(figure.imageObj.src);\n",
       "    }\n",
       "\n",
       "    var fig = new mpl.figure(id, ws_proxy,\n",
       "                           ondownload,\n",
       "                           element.get(0));\n",
       "\n",
       "    // Call onopen now - mpl needs it, as it is assuming we've passed it a real\n",
       "    // web socket which is closed, not our websocket->open comm proxy.\n",
       "    ws_proxy.onopen();\n",
       "\n",
       "    fig.parent_element = element.get(0);\n",
       "    fig.cell_info = mpl.find_output_cell(\"<div id='\" + id + \"'></div>\");\n",
       "    if (!fig.cell_info) {\n",
       "        console.error(\"Failed to find cell for figure\", id, fig);\n",
       "        return;\n",
       "    }\n",
       "\n",
       "    var output_index = fig.cell_info[2]\n",
       "    var cell = fig.cell_info[0];\n",
       "\n",
       "};\n",
       "\n",
       "mpl.figure.prototype.handle_close = function(fig, msg) {\n",
       "    // Update the output cell to use the data from the current canvas.\n",
       "    fig.push_to_output();\n",
       "    var dataURL = fig.canvas.toDataURL();\n",
       "    // Re-enable the keyboard manager in IPython - without this line, in FF,\n",
       "    // the notebook keyboard shortcuts fail.\n",
       "    IPython.keyboard_manager.enable()\n",
       "    $(fig.parent_element).html('<img src=\"' + dataURL + '\">');\n",
       "    fig.send_message('closing', {});\n",
       "    fig.ws.close()\n",
       "}\n",
       "\n",
       "mpl.figure.prototype.push_to_output = function(remove_interactive) {\n",
       "    // Turn the data on the canvas into data in the output cell.\n",
       "    var dataURL = this.canvas.toDataURL();\n",
       "    this.cell_info[1]['text/html'] = '<img src=\"' + dataURL + '\">';\n",
       "}\n",
       "\n",
       "mpl.figure.prototype.updated_canvas_event = function() {\n",
       "    // Tell IPython that the notebook contents must change.\n",
       "    IPython.notebook.set_dirty(true);\n",
       "    this.send_message(\"ack\", {});\n",
       "    var fig = this;\n",
       "    // Wait a second, then push the new image to the DOM so\n",
       "    // that it is saved nicely (might be nice to debounce this).\n",
       "    setTimeout(function () { fig.push_to_output() }, 1000);\n",
       "}\n",
       "\n",
       "mpl.figure.prototype._init_toolbar = function() {\n",
       "    var fig = this;\n",
       "\n",
       "    var nav_element = $('<div/>')\n",
       "    nav_element.attr('style', 'width: 100%');\n",
       "    this.root.append(nav_element);\n",
       "\n",
       "    // Define a callback function for later on.\n",
       "    function toolbar_event(event) {\n",
       "        return fig.toolbar_button_onclick(event['data']);\n",
       "    }\n",
       "    function toolbar_mouse_event(event) {\n",
       "        return fig.toolbar_button_onmouseover(event['data']);\n",
       "    }\n",
       "\n",
       "    for(var toolbar_ind in mpl.toolbar_items){\n",
       "        var name = mpl.toolbar_items[toolbar_ind][0];\n",
       "        var tooltip = mpl.toolbar_items[toolbar_ind][1];\n",
       "        var image = mpl.toolbar_items[toolbar_ind][2];\n",
       "        var method_name = mpl.toolbar_items[toolbar_ind][3];\n",
       "\n",
       "        if (!name) { continue; };\n",
       "\n",
       "        var button = $('<button class=\"btn btn-default\" href=\"#\" title=\"' + name + '\"><i class=\"fa ' + image + ' fa-lg\"></i></button>');\n",
       "        button.click(method_name, toolbar_event);\n",
       "        button.mouseover(tooltip, toolbar_mouse_event);\n",
       "        nav_element.append(button);\n",
       "    }\n",
       "\n",
       "    // Add the status bar.\n",
       "    var status_bar = $('<span class=\"mpl-message\" style=\"text-align:right; float: right;\"/>');\n",
       "    nav_element.append(status_bar);\n",
       "    this.message = status_bar[0];\n",
       "\n",
       "    // Add the close button to the window.\n",
       "    var buttongrp = $('<div class=\"btn-group inline pull-right\"></div>');\n",
       "    var button = $('<button class=\"btn btn-mini btn-danger\" href=\"#\" title=\"Close figure\"><i class=\"fa fa-times icon-remove icon-large\"></i></button>');\n",
       "    button.click(function (evt) { fig.handle_close(fig, {}); } );\n",
       "    button.mouseover('Close figure', toolbar_mouse_event);\n",
       "    buttongrp.append(button);\n",
       "    var titlebar = this.root.find($('.ui-dialog-titlebar'));\n",
       "    titlebar.prepend(buttongrp);\n",
       "}\n",
       "\n",
       "\n",
       "mpl.figure.prototype._canvas_extra_style = function(el){\n",
       "    // this is important to make the div 'focusable\n",
       "    el.attr('tabindex', 0)\n",
       "    // reach out to IPython and tell the keyboard manager to turn it's self\n",
       "    // off when our div gets focus\n",
       "\n",
       "    // location in version 3\n",
       "    if (IPython.notebook.keyboard_manager) {\n",
       "        IPython.notebook.keyboard_manager.register_events(el);\n",
       "    }\n",
       "    else {\n",
       "        // location in version 2\n",
       "        IPython.keyboard_manager.register_events(el);\n",
       "    }\n",
       "\n",
       "}\n",
       "\n",
       "mpl.figure.prototype._key_event_extra = function(event, name) {\n",
       "    var manager = IPython.notebook.keyboard_manager;\n",
       "    if (!manager)\n",
       "        manager = IPython.keyboard_manager;\n",
       "\n",
       "    // Check for shift+enter\n",
       "    if (event.shiftKey && event.which == 13) {\n",
       "        this.canvas_div.blur();\n",
       "        event.shiftKey = false;\n",
       "        // Send a \"J\" for go to next cell\n",
       "        event.which = 74;\n",
       "        event.keyCode = 74;\n",
       "        manager.command_mode();\n",
       "        manager.handle_keydown(event);\n",
       "    }\n",
       "}\n",
       "\n",
       "mpl.figure.prototype.handle_save = function(fig, msg) {\n",
       "    fig.ondownload(fig, null);\n",
       "}\n",
       "\n",
       "\n",
       "mpl.find_output_cell = function(html_output) {\n",
       "    // Return the cell and output element which can be found *uniquely* in the notebook.\n",
       "    // Note - this is a bit hacky, but it is done because the \"notebook_saving.Notebook\"\n",
       "    // IPython event is triggered only after the cells have been serialised, which for\n",
       "    // our purposes (turning an active figure into a static one), is too late.\n",
       "    var cells = IPython.notebook.get_cells();\n",
       "    var ncells = cells.length;\n",
       "    for (var i=0; i<ncells; i++) {\n",
       "        var cell = cells[i];\n",
       "        if (cell.cell_type === 'code'){\n",
       "            for (var j=0; j<cell.output_area.outputs.length; j++) {\n",
       "                var data = cell.output_area.outputs[j];\n",
       "                if (data.data) {\n",
       "                    // IPython >= 3 moved mimebundle to data attribute of output\n",
       "                    data = data.data;\n",
       "                }\n",
       "                if (data['text/html'] == html_output) {\n",
       "                    return [cell, data, j];\n",
       "                }\n",
       "            }\n",
       "        }\n",
       "    }\n",
       "}\n",
       "\n",
       "// Register the function which deals with the matplotlib target/channel.\n",
       "// The kernel may be null if the page has been refreshed.\n",
       "if (IPython.notebook.kernel != null) {\n",
       "    IPython.notebook.kernel.comm_manager.register_target('matplotlib', mpl.mpl_figure_comm);\n",
       "}\n"
      ],
      "text/plain": [
       "<IPython.core.display.Javascript object>"
      ]
     },
     "metadata": {},
     "output_type": "display_data"
    },
    {
     "data": {
      "text/html": [
       "<img src=\"data:image/png;base64,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\">"
      ],
      "text/plain": [
       "<IPython.core.display.HTML object>"
      ]
     },
     "metadata": {},
     "output_type": "display_data"
    },
    {
     "name": "stdout",
     "output_type": "stream",
     "text": [
      "Length of raw file is 120.0 seconds\n",
      "['ECG exclude suggested: []\\n', 'EOG exclude suggested: [45, 27]\\n', '\\n', 'ECG exclude final: [30, 41]\\n', 'EOG exclude final: [27, 45]\\n', 'Muscles exclude: []\\n']\n"
     ]
    }
   ],
   "source": [
    "%matplotlib notebook\n",
    "l_freq = freq_range.value[0]\n",
    "h_freq = freq_range.value[1]\n",
    "ica_plot = ica_TC.copy()\n",
    "\n",
    "\n",
    "if eog_chnames or ecg_chname:\n",
    "    ch_names = eog_chnames + [ecg_chname]\n",
    "    eog_ecg_channels = raw.pick_channels(ch_names=ch_names, copy=True)\n",
    "    ica_plot.add_channels([eog_ecg_channels], copy=False)\n",
    "    n_channels = ica.n_components_ + len(ch_names)\n",
    "else:\n",
    "    n_channels = ica.n_components\n",
    "# ica_plot.add_channels??\n",
    "ica_plot.filter(l_freq=l_freq, h_freq=h_freq)\n",
    "# merged_channels.plot()\n",
    "fig = ica_plot.plot(bgcolor='w', scalings={'misc': 3, 'ecg': 1e-3, 'eog': 3.5e-4, 'emg': 8e-4},\\\n",
    "                    color={'misc':'c'}, n_channels=n_channels)\n",
    "fig.set_figwidth(12)\n",
    "fig.set_figheight(10)\n",
    "print('Length of raw file is %.1f seconds' %  round(raw.times[-1], 1))\n",
    "f = open(results_path + '/' + basename + '_ica.log', 'r')\n",
    "lines = f.readlines()\n",
    "f.close()\n",
    "print lines[2:]"
   ]
  },
  {
   "cell_type": "code",
   "execution_count": 24,
   "metadata": {
    "collapsed": false
   },
   "outputs": [
    {
     "name": "stdout",
     "output_type": "stream",
     "text": [
      "Use ctrl or shift for multiple selection\n"
     ]
    }
   ],
   "source": [
    "print   \"Use ctrl or shift for multiple selection\"\n",
    "for i in range(3):\n",
    "    buttons_ecg[i].on_click(on_button_clicked)\n",
    "    buttons_eog[i].on_click(on_button_clicked)\n",
    "    buttons_emg[i].on_click(on_button_clicked)\n",
    "display(box)"
   ]
  },
  {
   "cell_type": "markdown",
   "metadata": {},
   "source": [
    "## Apply ICA. \n",
    "#### Comment out %%capture to plot raw file with removed ICs"
   ]
  },
  {
   "cell_type": "code",
   "execution_count": 25,
   "metadata": {
    "collapsed": false
   },
   "outputs": [
    {
     "name": "stdout",
     "output_type": "stream",
     "text": [
      "Components to exclude:[]\n",
      "The copy parameter is deprecated and will be removed in 0.13. In 0.13 the behavior will be to operate in-place (like copy=False). In 0.12 the default is copy=False. Use inst.copy() if necessary.\n",
      "Transforming to ICA space (60 components)\n",
      "Zeroing out 0 ICA components\n"
     ]
    },
    {
     "data": {
      "application/javascript": [
       "/* Put everything inside the global mpl namespace */\n",
       "window.mpl = {};\n",
       "\n",
       "mpl.get_websocket_type = function() {\n",
       "    if (typeof(WebSocket) !== 'undefined') {\n",
       "        return WebSocket;\n",
       "    } else if (typeof(MozWebSocket) !== 'undefined') {\n",
       "        return MozWebSocket;\n",
       "    } else {\n",
       "        alert('Your browser does not have WebSocket support.' +\n",
       "              'Please try Chrome, Safari or Firefox ≥ 6. ' +\n",
       "              'Firefox 4 and 5 are also supported but you ' +\n",
       "              'have to enable WebSockets in about:config.');\n",
       "    };\n",
       "}\n",
       "\n",
       "mpl.figure = function(figure_id, websocket, ondownload, parent_element) {\n",
       "    this.id = figure_id;\n",
       "\n",
       "    this.ws = websocket;\n",
       "\n",
       "    this.supports_binary = (this.ws.binaryType != undefined);\n",
       "\n",
       "    if (!this.supports_binary) {\n",
       "        var warnings = document.getElementById(\"mpl-warnings\");\n",
       "        if (warnings) {\n",
       "            warnings.style.display = 'block';\n",
       "            warnings.textContent = (\n",
       "                \"This browser does not support binary websocket messages. \" +\n",
       "                    \"Performance may be slow.\");\n",
       "        }\n",
       "    }\n",
       "\n",
       "    this.imageObj = new Image();\n",
       "\n",
       "    this.context = undefined;\n",
       "    this.message = undefined;\n",
       "    this.canvas = undefined;\n",
       "    this.rubberband_canvas = undefined;\n",
       "    this.rubberband_context = undefined;\n",
       "    this.format_dropdown = undefined;\n",
       "\n",
       "    this.image_mode = 'full';\n",
       "\n",
       "    this.root = $('<div/>');\n",
       "    this._root_extra_style(this.root)\n",
       "    this.root.attr('style', 'display: inline-block');\n",
       "\n",
       "    $(parent_element).append(this.root);\n",
       "\n",
       "    this._init_header(this);\n",
       "    this._init_canvas(this);\n",
       "    this._init_toolbar(this);\n",
       "\n",
       "    var fig = this;\n",
       "\n",
       "    this.waiting = false;\n",
       "\n",
       "    this.ws.onopen =  function () {\n",
       "            fig.send_message(\"supports_binary\", {value: fig.supports_binary});\n",
       "            fig.send_message(\"send_image_mode\", {});\n",
       "            fig.send_message(\"refresh\", {});\n",
       "        }\n",
       "\n",
       "    this.imageObj.onload = function() {\n",
       "            if (fig.image_mode == 'full') {\n",
       "                // Full images could contain transparency (where diff images\n",
       "                // almost always do), so we need to clear the canvas so that\n",
       "                // there is no ghosting.\n",
       "                fig.context.clearRect(0, 0, fig.canvas.width, fig.canvas.height);\n",
       "            }\n",
       "            fig.context.drawImage(fig.imageObj, 0, 0);\n",
       "            fig.waiting = false;\n",
       "        };\n",
       "\n",
       "    this.imageObj.onunload = function() {\n",
       "        this.ws.close();\n",
       "    }\n",
       "\n",
       "    this.ws.onmessage = this._make_on_message_function(this);\n",
       "\n",
       "    this.ondownload = ondownload;\n",
       "}\n",
       "\n",
       "mpl.figure.prototype._init_header = function() {\n",
       "    var titlebar = $(\n",
       "        '<div class=\"ui-dialog-titlebar ui-widget-header ui-corner-all ' +\n",
       "        'ui-helper-clearfix\"/>');\n",
       "    var titletext = $(\n",
       "        '<div class=\"ui-dialog-title\" style=\"width: 100%; ' +\n",
       "        'text-align: center; padding: 3px;\"/>');\n",
       "    titlebar.append(titletext)\n",
       "    this.root.append(titlebar);\n",
       "    this.header = titletext[0];\n",
       "}\n",
       "\n",
       "\n",
       "\n",
       "mpl.figure.prototype._canvas_extra_style = function(canvas_div) {\n",
       "\n",
       "}\n",
       "\n",
       "\n",
       "mpl.figure.prototype._root_extra_style = function(canvas_div) {\n",
       "\n",
       "}\n",
       "\n",
       "mpl.figure.prototype._init_canvas = function() {\n",
       "    var fig = this;\n",
       "\n",
       "    var canvas_div = $('<div/>');\n",
       "\n",
       "    canvas_div.attr('style', 'position: relative; clear: both; outline: 0');\n",
       "\n",
       "    function canvas_keyboard_event(event) {\n",
       "        return fig.key_event(event, event['data']);\n",
       "    }\n",
       "\n",
       "    canvas_div.keydown('key_press', canvas_keyboard_event);\n",
       "    canvas_div.keyup('key_release', canvas_keyboard_event);\n",
       "    this.canvas_div = canvas_div\n",
       "    this._canvas_extra_style(canvas_div)\n",
       "    this.root.append(canvas_div);\n",
       "\n",
       "    var canvas = $('<canvas/>');\n",
       "    canvas.addClass('mpl-canvas');\n",
       "    canvas.attr('style', \"left: 0; top: 0; z-index: 0; outline: 0\")\n",
       "\n",
       "    this.canvas = canvas[0];\n",
       "    this.context = canvas[0].getContext(\"2d\");\n",
       "\n",
       "    var rubberband = $('<canvas/>');\n",
       "    rubberband.attr('style', \"position: absolute; left: 0; top: 0; z-index: 1;\")\n",
       "\n",
       "    var pass_mouse_events = true;\n",
       "\n",
       "    canvas_div.resizable({\n",
       "        start: function(event, ui) {\n",
       "            pass_mouse_events = false;\n",
       "        },\n",
       "        resize: function(event, ui) {\n",
       "            fig.request_resize(ui.size.width, ui.size.height);\n",
       "        },\n",
       "        stop: function(event, ui) {\n",
       "            pass_mouse_events = true;\n",
       "            fig.request_resize(ui.size.width, ui.size.height);\n",
       "        },\n",
       "    });\n",
       "\n",
       "    function mouse_event_fn(event) {\n",
       "        if (pass_mouse_events)\n",
       "            return fig.mouse_event(event, event['data']);\n",
       "    }\n",
       "\n",
       "    rubberband.mousedown('button_press', mouse_event_fn);\n",
       "    rubberband.mouseup('button_release', mouse_event_fn);\n",
       "    // Throttle sequential mouse events to 1 every 20ms.\n",
       "    rubberband.mousemove('motion_notify', mouse_event_fn);\n",
       "\n",
       "    rubberband.mouseenter('figure_enter', mouse_event_fn);\n",
       "    rubberband.mouseleave('figure_leave', mouse_event_fn);\n",
       "\n",
       "    canvas_div.on(\"wheel\", function (event) {\n",
       "        event = event.originalEvent;\n",
       "        event['data'] = 'scroll'\n",
       "        if (event.deltaY < 0) {\n",
       "            event.step = 1;\n",
       "        } else {\n",
       "            event.step = -1;\n",
       "        }\n",
       "        mouse_event_fn(event);\n",
       "    });\n",
       "\n",
       "    canvas_div.append(canvas);\n",
       "    canvas_div.append(rubberband);\n",
       "\n",
       "    this.rubberband = rubberband;\n",
       "    this.rubberband_canvas = rubberband[0];\n",
       "    this.rubberband_context = rubberband[0].getContext(\"2d\");\n",
       "    this.rubberband_context.strokeStyle = \"#000000\";\n",
       "\n",
       "    this._resize_canvas = function(width, height) {\n",
       "        // Keep the size of the canvas, canvas container, and rubber band\n",
       "        // canvas in synch.\n",
       "        canvas_div.css('width', width)\n",
       "        canvas_div.css('height', height)\n",
       "\n",
       "        canvas.attr('width', width);\n",
       "        canvas.attr('height', height);\n",
       "\n",
       "        rubberband.attr('width', width);\n",
       "        rubberband.attr('height', height);\n",
       "    }\n",
       "\n",
       "    // Set the figure to an initial 600x600px, this will subsequently be updated\n",
       "    // upon first draw.\n",
       "    this._resize_canvas(600, 600);\n",
       "\n",
       "    // Disable right mouse context menu.\n",
       "    $(this.rubberband_canvas).bind(\"contextmenu\",function(e){\n",
       "        return false;\n",
       "    });\n",
       "\n",
       "    function set_focus () {\n",
       "        canvas.focus();\n",
       "        canvas_div.focus();\n",
       "    }\n",
       "\n",
       "    window.setTimeout(set_focus, 100);\n",
       "}\n",
       "\n",
       "mpl.figure.prototype._init_toolbar = function() {\n",
       "    var fig = this;\n",
       "\n",
       "    var nav_element = $('<div/>')\n",
       "    nav_element.attr('style', 'width: 100%');\n",
       "    this.root.append(nav_element);\n",
       "\n",
       "    // Define a callback function for later on.\n",
       "    function toolbar_event(event) {\n",
       "        return fig.toolbar_button_onclick(event['data']);\n",
       "    }\n",
       "    function toolbar_mouse_event(event) {\n",
       "        return fig.toolbar_button_onmouseover(event['data']);\n",
       "    }\n",
       "\n",
       "    for(var toolbar_ind in mpl.toolbar_items) {\n",
       "        var name = mpl.toolbar_items[toolbar_ind][0];\n",
       "        var tooltip = mpl.toolbar_items[toolbar_ind][1];\n",
       "        var image = mpl.toolbar_items[toolbar_ind][2];\n",
       "        var method_name = mpl.toolbar_items[toolbar_ind][3];\n",
       "\n",
       "        if (!name) {\n",
       "            // put a spacer in here.\n",
       "            continue;\n",
       "        }\n",
       "        var button = $('<button/>');\n",
       "        button.addClass('ui-button ui-widget ui-state-default ui-corner-all ' +\n",
       "                        'ui-button-icon-only');\n",
       "        button.attr('role', 'button');\n",
       "        button.attr('aria-disabled', 'false');\n",
       "        button.click(method_name, toolbar_event);\n",
       "        button.mouseover(tooltip, toolbar_mouse_event);\n",
       "\n",
       "        var icon_img = $('<span/>');\n",
       "        icon_img.addClass('ui-button-icon-primary ui-icon');\n",
       "        icon_img.addClass(image);\n",
       "        icon_img.addClass('ui-corner-all');\n",
       "\n",
       "        var tooltip_span = $('<span/>');\n",
       "        tooltip_span.addClass('ui-button-text');\n",
       "        tooltip_span.html(tooltip);\n",
       "\n",
       "        button.append(icon_img);\n",
       "        button.append(tooltip_span);\n",
       "\n",
       "        nav_element.append(button);\n",
       "    }\n",
       "\n",
       "    var fmt_picker_span = $('<span/>');\n",
       "\n",
       "    var fmt_picker = $('<select/>');\n",
       "    fmt_picker.addClass('mpl-toolbar-option ui-widget ui-widget-content');\n",
       "    fmt_picker_span.append(fmt_picker);\n",
       "    nav_element.append(fmt_picker_span);\n",
       "    this.format_dropdown = fmt_picker[0];\n",
       "\n",
       "    for (var ind in mpl.extensions) {\n",
       "        var fmt = mpl.extensions[ind];\n",
       "        var option = $(\n",
       "            '<option/>', {selected: fmt === mpl.default_extension}).html(fmt);\n",
       "        fmt_picker.append(option)\n",
       "    }\n",
       "\n",
       "    // Add hover states to the ui-buttons\n",
       "    $( \".ui-button\" ).hover(\n",
       "        function() { $(this).addClass(\"ui-state-hover\");},\n",
       "        function() { $(this).removeClass(\"ui-state-hover\");}\n",
       "    );\n",
       "\n",
       "    var status_bar = $('<span class=\"mpl-message\"/>');\n",
       "    nav_element.append(status_bar);\n",
       "    this.message = status_bar[0];\n",
       "}\n",
       "\n",
       "mpl.figure.prototype.request_resize = function(x_pixels, y_pixels) {\n",
       "    // Request matplotlib to resize the figure. Matplotlib will then trigger a resize in the client,\n",
       "    // which will in turn request a refresh of the image.\n",
       "    this.send_message('resize', {'width': x_pixels, 'height': y_pixels});\n",
       "}\n",
       "\n",
       "mpl.figure.prototype.send_message = function(type, properties) {\n",
       "    properties['type'] = type;\n",
       "    properties['figure_id'] = this.id;\n",
       "    this.ws.send(JSON.stringify(properties));\n",
       "}\n",
       "\n",
       "mpl.figure.prototype.send_draw_message = function() {\n",
       "    if (!this.waiting) {\n",
       "        this.waiting = true;\n",
       "        this.ws.send(JSON.stringify({type: \"draw\", figure_id: this.id}));\n",
       "    }\n",
       "}\n",
       "\n",
       "\n",
       "mpl.figure.prototype.handle_save = function(fig, msg) {\n",
       "    var format_dropdown = fig.format_dropdown;\n",
       "    var format = format_dropdown.options[format_dropdown.selectedIndex].value;\n",
       "    fig.ondownload(fig, format);\n",
       "}\n",
       "\n",
       "\n",
       "mpl.figure.prototype.handle_resize = function(fig, msg) {\n",
       "    var size = msg['size'];\n",
       "    if (size[0] != fig.canvas.width || size[1] != fig.canvas.height) {\n",
       "        fig._resize_canvas(size[0], size[1]);\n",
       "        fig.send_message(\"refresh\", {});\n",
       "    };\n",
       "}\n",
       "\n",
       "mpl.figure.prototype.handle_rubberband = function(fig, msg) {\n",
       "    var x0 = msg['x0'];\n",
       "    var y0 = fig.canvas.height - msg['y0'];\n",
       "    var x1 = msg['x1'];\n",
       "    var y1 = fig.canvas.height - msg['y1'];\n",
       "    x0 = Math.floor(x0) + 0.5;\n",
       "    y0 = Math.floor(y0) + 0.5;\n",
       "    x1 = Math.floor(x1) + 0.5;\n",
       "    y1 = Math.floor(y1) + 0.5;\n",
       "    var min_x = Math.min(x0, x1);\n",
       "    var min_y = Math.min(y0, y1);\n",
       "    var width = Math.abs(x1 - x0);\n",
       "    var height = Math.abs(y1 - y0);\n",
       "\n",
       "    fig.rubberband_context.clearRect(\n",
       "        0, 0, fig.canvas.width, fig.canvas.height);\n",
       "\n",
       "    fig.rubberband_context.strokeRect(min_x, min_y, width, height);\n",
       "}\n",
       "\n",
       "mpl.figure.prototype.handle_figure_label = function(fig, msg) {\n",
       "    // Updates the figure title.\n",
       "    fig.header.textContent = msg['label'];\n",
       "}\n",
       "\n",
       "mpl.figure.prototype.handle_cursor = function(fig, msg) {\n",
       "    var cursor = msg['cursor'];\n",
       "    switch(cursor)\n",
       "    {\n",
       "    case 0:\n",
       "        cursor = 'pointer';\n",
       "        break;\n",
       "    case 1:\n",
       "        cursor = 'default';\n",
       "        break;\n",
       "    case 2:\n",
       "        cursor = 'crosshair';\n",
       "        break;\n",
       "    case 3:\n",
       "        cursor = 'move';\n",
       "        break;\n",
       "    }\n",
       "    fig.rubberband_canvas.style.cursor = cursor;\n",
       "}\n",
       "\n",
       "mpl.figure.prototype.handle_message = function(fig, msg) {\n",
       "    fig.message.textContent = msg['message'];\n",
       "}\n",
       "\n",
       "mpl.figure.prototype.handle_draw = function(fig, msg) {\n",
       "    // Request the server to send over a new figure.\n",
       "    fig.send_draw_message();\n",
       "}\n",
       "\n",
       "mpl.figure.prototype.handle_image_mode = function(fig, msg) {\n",
       "    fig.image_mode = msg['mode'];\n",
       "}\n",
       "\n",
       "mpl.figure.prototype.updated_canvas_event = function() {\n",
       "    // Called whenever the canvas gets updated.\n",
       "    this.send_message(\"ack\", {});\n",
       "}\n",
       "\n",
       "// A function to construct a web socket function for onmessage handling.\n",
       "// Called in the figure constructor.\n",
       "mpl.figure.prototype._make_on_message_function = function(fig) {\n",
       "    return function socket_on_message(evt) {\n",
       "        if (evt.data instanceof Blob) {\n",
       "            /* FIXME: We get \"Resource interpreted as Image but\n",
       "             * transferred with MIME type text/plain:\" errors on\n",
       "             * Chrome.  But how to set the MIME type?  It doesn't seem\n",
       "             * to be part of the websocket stream */\n",
       "            evt.data.type = \"image/png\";\n",
       "\n",
       "            /* Free the memory for the previous frames */\n",
       "            if (fig.imageObj.src) {\n",
       "                (window.URL || window.webkitURL).revokeObjectURL(\n",
       "                    fig.imageObj.src);\n",
       "            }\n",
       "\n",
       "            fig.imageObj.src = (window.URL || window.webkitURL).createObjectURL(\n",
       "                evt.data);\n",
       "            fig.updated_canvas_event();\n",
       "            return;\n",
       "        }\n",
       "        else if (typeof evt.data === 'string' && evt.data.slice(0, 21) == \"data:image/png;base64\") {\n",
       "            fig.imageObj.src = evt.data;\n",
       "            fig.updated_canvas_event();\n",
       "            return;\n",
       "        }\n",
       "\n",
       "        var msg = JSON.parse(evt.data);\n",
       "        var msg_type = msg['type'];\n",
       "\n",
       "        // Call the  \"handle_{type}\" callback, which takes\n",
       "        // the figure and JSON message as its only arguments.\n",
       "        try {\n",
       "            var callback = fig[\"handle_\" + msg_type];\n",
       "        } catch (e) {\n",
       "            console.log(\"No handler for the '\" + msg_type + \"' message type: \", msg);\n",
       "            return;\n",
       "        }\n",
       "\n",
       "        if (callback) {\n",
       "            try {\n",
       "                // console.log(\"Handling '\" + msg_type + \"' message: \", msg);\n",
       "                callback(fig, msg);\n",
       "            } catch (e) {\n",
       "                console.log(\"Exception inside the 'handler_\" + msg_type + \"' callback:\", e, e.stack, msg);\n",
       "            }\n",
       "        }\n",
       "    };\n",
       "}\n",
       "\n",
       "// from http://stackoverflow.com/questions/1114465/getting-mouse-location-in-canvas\n",
       "mpl.findpos = function(e) {\n",
       "    //this section is from http://www.quirksmode.org/js/events_properties.html\n",
       "    var targ;\n",
       "    if (!e)\n",
       "        e = window.event;\n",
       "    if (e.target)\n",
       "        targ = e.target;\n",
       "    else if (e.srcElement)\n",
       "        targ = e.srcElement;\n",
       "    if (targ.nodeType == 3) // defeat Safari bug\n",
       "        targ = targ.parentNode;\n",
       "\n",
       "    // jQuery normalizes the pageX and pageY\n",
       "    // pageX,Y are the mouse positions relative to the document\n",
       "    // offset() returns the position of the element relative to the document\n",
       "    var x = e.pageX - $(targ).offset().left;\n",
       "    var y = e.pageY - $(targ).offset().top;\n",
       "\n",
       "    return {\"x\": x, \"y\": y};\n",
       "};\n",
       "\n",
       "mpl.figure.prototype.mouse_event = function(event, name) {\n",
       "    var canvas_pos = mpl.findpos(event)\n",
       "\n",
       "    if (name === 'button_press')\n",
       "    {\n",
       "        this.canvas.focus();\n",
       "        this.canvas_div.focus();\n",
       "    }\n",
       "\n",
       "    var x = canvas_pos.x;\n",
       "    var y = canvas_pos.y;\n",
       "\n",
       "    this.send_message(name, {x: x, y: y, button: event.button,\n",
       "                             step: event.step});\n",
       "\n",
       "    /* This prevents the web browser from automatically changing to\n",
       "     * the text insertion cursor when the button is pressed.  We want\n",
       "     * to control all of the cursor setting manually through the\n",
       "     * 'cursor' event from matplotlib */\n",
       "    event.preventDefault();\n",
       "    return false;\n",
       "}\n",
       "\n",
       "mpl.figure.prototype._key_event_extra = function(event, name) {\n",
       "    // Handle any extra behaviour associated with a key event\n",
       "}\n",
       "\n",
       "mpl.figure.prototype.key_event = function(event, name) {\n",
       "\n",
       "    // Prevent repeat events\n",
       "    if (name == 'key_press')\n",
       "    {\n",
       "        if (event.which === this._key)\n",
       "            return;\n",
       "        else\n",
       "            this._key = event.which;\n",
       "    }\n",
       "    if (name == 'key_release')\n",
       "        this._key = null;\n",
       "\n",
       "    var value = '';\n",
       "    if (event.ctrlKey && event.which != 17)\n",
       "        value += \"ctrl+\";\n",
       "    if (event.altKey && event.which != 18)\n",
       "        value += \"alt+\";\n",
       "    if (event.shiftKey && event.which != 16)\n",
       "        value += \"shift+\";\n",
       "\n",
       "    value += 'k';\n",
       "    value += event.which.toString();\n",
       "\n",
       "    this._key_event_extra(event, name);\n",
       "\n",
       "    this.send_message(name, {key: value});\n",
       "    return false;\n",
       "}\n",
       "\n",
       "mpl.figure.prototype.toolbar_button_onclick = function(name) {\n",
       "    if (name == 'download') {\n",
       "        this.handle_save(this, null);\n",
       "    } else {\n",
       "        this.send_message(\"toolbar_button\", {name: name});\n",
       "    }\n",
       "};\n",
       "\n",
       "mpl.figure.prototype.toolbar_button_onmouseover = function(tooltip) {\n",
       "    this.message.textContent = tooltip;\n",
       "};\n",
       "mpl.toolbar_items = [[\"Home\", \"Reset original view\", \"fa fa-home icon-home\", \"home\"], [\"Back\", \"Back to  previous view\", \"fa fa-arrow-left icon-arrow-left\", \"back\"], [\"Forward\", \"Forward to next view\", \"fa fa-arrow-right icon-arrow-right\", \"forward\"], [\"\", \"\", \"\", \"\"], [\"Pan\", \"Pan axes with left mouse, zoom with right\", \"fa fa-arrows icon-move\", \"pan\"], [\"Zoom\", \"Zoom to rectangle\", \"fa fa-square-o icon-check-empty\", \"zoom\"], [\"\", \"\", \"\", \"\"], [\"Download\", \"Download plot\", \"fa fa-floppy-o icon-save\", \"download\"]];\n",
       "\n",
       "mpl.extensions = [\"eps\", \"jpeg\", \"pdf\", \"png\", \"ps\", \"raw\", \"svg\", \"tif\"];\n",
       "\n",
       "mpl.default_extension = \"png\";var comm_websocket_adapter = function(comm) {\n",
       "    // Create a \"websocket\"-like object which calls the given IPython comm\n",
       "    // object with the appropriate methods. Currently this is a non binary\n",
       "    // socket, so there is still some room for performance tuning.\n",
       "    var ws = {};\n",
       "\n",
       "    ws.close = function() {\n",
       "        comm.close()\n",
       "    };\n",
       "    ws.send = function(m) {\n",
       "        //console.log('sending', m);\n",
       "        comm.send(m);\n",
       "    };\n",
       "    // Register the callback with on_msg.\n",
       "    comm.on_msg(function(msg) {\n",
       "        //console.log('receiving', msg['content']['data'], msg);\n",
       "        // Pass the mpl event to the overriden (by mpl) onmessage function.\n",
       "        ws.onmessage(msg['content']['data'])\n",
       "    });\n",
       "    return ws;\n",
       "}\n",
       "\n",
       "mpl.mpl_figure_comm = function(comm, msg) {\n",
       "    // This is the function which gets called when the mpl process\n",
       "    // starts-up an IPython Comm through the \"matplotlib\" channel.\n",
       "\n",
       "    var id = msg.content.data.id;\n",
       "    // Get hold of the div created by the display call when the Comm\n",
       "    // socket was opened in Python.\n",
       "    var element = $(\"#\" + id);\n",
       "    var ws_proxy = comm_websocket_adapter(comm)\n",
       "\n",
       "    function ondownload(figure, format) {\n",
       "        window.open(figure.imageObj.src);\n",
       "    }\n",
       "\n",
       "    var fig = new mpl.figure(id, ws_proxy,\n",
       "                           ondownload,\n",
       "                           element.get(0));\n",
       "\n",
       "    // Call onopen now - mpl needs it, as it is assuming we've passed it a real\n",
       "    // web socket which is closed, not our websocket->open comm proxy.\n",
       "    ws_proxy.onopen();\n",
       "\n",
       "    fig.parent_element = element.get(0);\n",
       "    fig.cell_info = mpl.find_output_cell(\"<div id='\" + id + \"'></div>\");\n",
       "    if (!fig.cell_info) {\n",
       "        console.error(\"Failed to find cell for figure\", id, fig);\n",
       "        return;\n",
       "    }\n",
       "\n",
       "    var output_index = fig.cell_info[2]\n",
       "    var cell = fig.cell_info[0];\n",
       "\n",
       "};\n",
       "\n",
       "mpl.figure.prototype.handle_close = function(fig, msg) {\n",
       "    // Update the output cell to use the data from the current canvas.\n",
       "    fig.push_to_output();\n",
       "    var dataURL = fig.canvas.toDataURL();\n",
       "    // Re-enable the keyboard manager in IPython - without this line, in FF,\n",
       "    // the notebook keyboard shortcuts fail.\n",
       "    IPython.keyboard_manager.enable()\n",
       "    $(fig.parent_element).html('<img src=\"' + dataURL + '\">');\n",
       "    fig.send_message('closing', {});\n",
       "    fig.ws.close()\n",
       "}\n",
       "\n",
       "mpl.figure.prototype.push_to_output = function(remove_interactive) {\n",
       "    // Turn the data on the canvas into data in the output cell.\n",
       "    var dataURL = this.canvas.toDataURL();\n",
       "    this.cell_info[1]['text/html'] = '<img src=\"' + dataURL + '\">';\n",
       "}\n",
       "\n",
       "mpl.figure.prototype.updated_canvas_event = function() {\n",
       "    // Tell IPython that the notebook contents must change.\n",
       "    IPython.notebook.set_dirty(true);\n",
       "    this.send_message(\"ack\", {});\n",
       "    var fig = this;\n",
       "    // Wait a second, then push the new image to the DOM so\n",
       "    // that it is saved nicely (might be nice to debounce this).\n",
       "    setTimeout(function () { fig.push_to_output() }, 1000);\n",
       "}\n",
       "\n",
       "mpl.figure.prototype._init_toolbar = function() {\n",
       "    var fig = this;\n",
       "\n",
       "    var nav_element = $('<div/>')\n",
       "    nav_element.attr('style', 'width: 100%');\n",
       "    this.root.append(nav_element);\n",
       "\n",
       "    // Define a callback function for later on.\n",
       "    function toolbar_event(event) {\n",
       "        return fig.toolbar_button_onclick(event['data']);\n",
       "    }\n",
       "    function toolbar_mouse_event(event) {\n",
       "        return fig.toolbar_button_onmouseover(event['data']);\n",
       "    }\n",
       "\n",
       "    for(var toolbar_ind in mpl.toolbar_items){\n",
       "        var name = mpl.toolbar_items[toolbar_ind][0];\n",
       "        var tooltip = mpl.toolbar_items[toolbar_ind][1];\n",
       "        var image = mpl.toolbar_items[toolbar_ind][2];\n",
       "        var method_name = mpl.toolbar_items[toolbar_ind][3];\n",
       "\n",
       "        if (!name) { continue; };\n",
       "\n",
       "        var button = $('<button class=\"btn btn-default\" href=\"#\" title=\"' + name + '\"><i class=\"fa ' + image + ' fa-lg\"></i></button>');\n",
       "        button.click(method_name, toolbar_event);\n",
       "        button.mouseover(tooltip, toolbar_mouse_event);\n",
       "        nav_element.append(button);\n",
       "    }\n",
       "\n",
       "    // Add the status bar.\n",
       "    var status_bar = $('<span class=\"mpl-message\" style=\"text-align:right; float: right;\"/>');\n",
       "    nav_element.append(status_bar);\n",
       "    this.message = status_bar[0];\n",
       "\n",
       "    // Add the close button to the window.\n",
       "    var buttongrp = $('<div class=\"btn-group inline pull-right\"></div>');\n",
       "    var button = $('<button class=\"btn btn-mini btn-danger\" href=\"#\" title=\"Close figure\"><i class=\"fa fa-times icon-remove icon-large\"></i></button>');\n",
       "    button.click(function (evt) { fig.handle_close(fig, {}); } );\n",
       "    button.mouseover('Close figure', toolbar_mouse_event);\n",
       "    buttongrp.append(button);\n",
       "    var titlebar = this.root.find($('.ui-dialog-titlebar'));\n",
       "    titlebar.prepend(buttongrp);\n",
       "}\n",
       "\n",
       "\n",
       "mpl.figure.prototype._canvas_extra_style = function(el){\n",
       "    // this is important to make the div 'focusable\n",
       "    el.attr('tabindex', 0)\n",
       "    // reach out to IPython and tell the keyboard manager to turn it's self\n",
       "    // off when our div gets focus\n",
       "\n",
       "    // location in version 3\n",
       "    if (IPython.notebook.keyboard_manager) {\n",
       "        IPython.notebook.keyboard_manager.register_events(el);\n",
       "    }\n",
       "    else {\n",
       "        // location in version 2\n",
       "        IPython.keyboard_manager.register_events(el);\n",
       "    }\n",
       "\n",
       "}\n",
       "\n",
       "mpl.figure.prototype._key_event_extra = function(event, name) {\n",
       "    var manager = IPython.notebook.keyboard_manager;\n",
       "    if (!manager)\n",
       "        manager = IPython.keyboard_manager;\n",
       "\n",
       "    // Check for shift+enter\n",
       "    if (event.shiftKey && event.which == 13) {\n",
       "        this.canvas_div.blur();\n",
       "        event.shiftKey = false;\n",
       "        // Send a \"J\" for go to next cell\n",
       "        event.which = 74;\n",
       "        event.keyCode = 74;\n",
       "        manager.command_mode();\n",
       "        manager.handle_keydown(event);\n",
       "    }\n",
       "}\n",
       "\n",
       "mpl.figure.prototype.handle_save = function(fig, msg) {\n",
       "    fig.ondownload(fig, null);\n",
       "}\n",
       "\n",
       "\n",
       "mpl.find_output_cell = function(html_output) {\n",
       "    // Return the cell and output element which can be found *uniquely* in the notebook.\n",
       "    // Note - this is a bit hacky, but it is done because the \"notebook_saving.Notebook\"\n",
       "    // IPython event is triggered only after the cells have been serialised, which for\n",
       "    // our purposes (turning an active figure into a static one), is too late.\n",
       "    var cells = IPython.notebook.get_cells();\n",
       "    var ncells = cells.length;\n",
       "    for (var i=0; i<ncells; i++) {\n",
       "        var cell = cells[i];\n",
       "        if (cell.cell_type === 'code'){\n",
       "            for (var j=0; j<cell.output_area.outputs.length; j++) {\n",
       "                var data = cell.output_area.outputs[j];\n",
       "                if (data.data) {\n",
       "                    // IPython >= 3 moved mimebundle to data attribute of output\n",
       "                    data = data.data;\n",
       "                }\n",
       "                if (data['text/html'] == html_output) {\n",
       "                    return [cell, data, j];\n",
       "                }\n",
       "            }\n",
       "        }\n",
       "    }\n",
       "}\n",
       "\n",
       "// Register the function which deals with the matplotlib target/channel.\n",
       "// The kernel may be null if the page has been refreshed.\n",
       "if (IPython.notebook.kernel != null) {\n",
       "    IPython.notebook.kernel.comm_manager.register_target('matplotlib', mpl.mpl_figure_comm);\n",
       "}\n"
      ],
      "text/plain": [
       "<IPython.core.display.Javascript object>"
      ]
     },
     "metadata": {},
     "output_type": "display_data"
    },
    {
     "data": {
      "text/html": [
       "<img src=\"data:image/png;base64,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\">"
      ],
      "text/plain": [
       "<IPython.core.display.HTML object>"
      ]
     },
     "metadata": {},
     "output_type": "display_data"
    }
   ],
   "source": [
    "# %%capture\n",
    "ecg_inds = []\n",
    "eog_inds = []\n",
    "emg_inds = []\n",
    "for i in range(3):\n",
    "    ecg_inds.extend(list(comp_sel_ecg[i].value))\n",
    "    eog_inds.extend(list(comp_sel_eog[i].value))\n",
    "    emg_inds.extend(list(comp_sel_emg[i].value))\n",
    "picks = ecg_inds + eog_inds + emg_inds \n",
    "picks = list(set(picks))\n",
    "ica.exclude = picks\n",
    "print 'Components to exclude:' + str(picks)\n",
    "raw_ica = ica.apply(raw, copy=True)\n",
    "ica.exclude\n",
    "fig = raw_ica.plot(lowpass=100, start=8)\n",
    "\n",
    "fig.set_figwidth(12)\n",
    "fig.set_figheight(12)\n",
    "# raw_ica.plot??"
   ]
  },
  {
   "cell_type": "markdown",
   "metadata": {},
   "source": [
    "## Cell below only plots topos and spectra"
   ]
  },
  {
   "cell_type": "code",
   "execution_count": 26,
   "metadata": {
    "collapsed": false
   },
   "outputs": [],
   "source": [
    "# %matplotlib inline\n",
    "# ICA_title = 'Sources related to %s artifacts (red)'\n",
    "is_show = False\n",
    "ICs_header = widgets.HTML('<h2>Selected ICs: ' + str(picks) + '</h2>')\n",
    "for iPick in picks:\n",
    "    fig1 = ica.plot_components(iPick, colorbar=True, show=is_show)\n",
    "    fig1.set_label('IC #' + str(iPick))\n",
    "    fig2 = ica_TC.plot_psd(tmax=None, picks=iPick, fmax=140, show=False)\n",
    "    fig2.set_label('IC #' + str(iPick))\n",
    "#     fig.set_figwidth(6)\n",
    "#     fig.set_figheight(3)\n",
    "display(ICs_header)\n",
    "# ecg_inds."
   ]
  },
  {
   "cell_type": "markdown",
   "metadata": {},
   "source": [
    "## Save ica with ica.exclude; split raw data into seamless intervals  and save the result"
   ]
  },
  {
   "cell_type": "code",
   "execution_count": 55,
   "metadata": {
    "collapsed": false
   },
   "outputs": [
    {
     "name": "stdout",
     "output_type": "stream",
     "text": [
      "Overwriting existing file.\n",
      "Writing /home/dmalt/Dropbox/aut_gamma/MEG2016/R0008/R0008_rest_raw_tsss_mc_trans_eo_ica_raw.fif\n",
      "Writing ...\n",
      "Writing ...\n",
      "Writing ...\n",
      "Writing ...\n",
      "Writing ...\n",
      "Writing ...\n",
      "Writing ...\n",
      "Writing ...\n",
      "Writing ...\n",
      "Writing ...\n",
      "Writing ...\n",
      "Writing ...\n",
      "Writing ...\n",
      "Closing /home/dmalt/Dropbox/aut_gamma/MEG2016/R0008/R0008_rest_raw_tsss_mc_trans_eo_ica_raw.fif [done]\n",
      "Writing ica solution to /home/dmalt/Dropbox/aut_gamma/MEG2016/R0008/R0008_rest_raw_tsss_mc_trans_eo-ica.fif...\n",
      "eo start times: \n",
      "[269.0, 282.0, 319.0, 368.0, 400.0, 446.0]\n",
      "eo end times: \n",
      "[274.0, 290.0, 356.0, 388.0, 438.0, 459.0]\n",
      "first sample time: \n",
      "68.0\n",
      "[4.5, 8.0, 37.0, 20.0, 38.0, 12.5]\n",
      "The copy parameter is deprecated and will be removed in 0.14. In 0.13 the behavior will be to operate in-place (like copy=False). In 0.12 the default is copy=True. Use inst.copy() if necessary.\n",
      "0 4.5 4.5\n",
      "4.5\n",
      "The copy parameter is deprecated and will be removed in 0.14. In 0.13 the behavior will be to operate in-place (like copy=False). In 0.12 the default is copy=True. Use inst.copy() if necessary.\n",
      "4.5 12.5 8.0\n",
      "8.0\n",
      "The copy parameter is deprecated and will be removed in 0.14. In 0.13 the behavior will be to operate in-place (like copy=False). In 0.12 the default is copy=True. Use inst.copy() if necessary.\n",
      "12.5 49.5 37.0\n",
      "37.0\n",
      "The copy parameter is deprecated and will be removed in 0.14. In 0.13 the behavior will be to operate in-place (like copy=False). In 0.12 the default is copy=True. Use inst.copy() if necessary.\n",
      "49.5 69.5 20.0\n",
      "20.0\n",
      "The copy parameter is deprecated and will be removed in 0.14. In 0.13 the behavior will be to operate in-place (like copy=False). In 0.12 the default is copy=True. Use inst.copy() if necessary.\n",
      "69.5 107.5 38.0\n",
      "38.0\n",
      "The copy parameter is deprecated and will be removed in 0.14. In 0.13 the behavior will be to operate in-place (like copy=False). In 0.12 the default is copy=True. Use inst.copy() if necessary.\n",
      "107.5 120.0 12.5\n",
      "12.5\n",
      "Split time intervals: [0, 4.5, 12.5, 49.5, 69.5, 107.5, 120.0]\n"
     ]
    }
   ],
   "source": [
    "raw_ica.save(raw_ica_filename, overwrite=True)\n",
    "ica.save(ica_file)\n",
    "\n",
    "path, basename_ica, ext = split_f(raw_ica_filename)\n",
    "from table_handling import get_eo_ec_by_name\n",
    "lCondStart, lCondEnd, first_samp, cond = get_eo_ec_by_name(Subj_ID = subj_ID, cond=cond)\n",
    "lCondStart[0] += 0.5\n",
    "offset = lCondStart[0]\n",
    "# lCondStart = [lCondStart[i] - offset for i in range(len(lCondStart))]\n",
    "# lCondEnd = [lCondEnd[i] - offset for i in range(len(lCondStart))]\n",
    "lCondEnd[-1] -= 0.5\n",
    "lDurations = [lCondEnd[i] - lCondStart[i] for i in range(len(lCondStart))]\n",
    "print lDurations\n",
    "tmin = 0\n",
    "tmax = 0\n",
    "tmaxes = [0]\n",
    "eo_ec_split_fif = os.path.join(path, basename_ica)\n",
    "for i in range(len(lCondStart)):\n",
    "        if i: \n",
    "            tmin += lDurations[i - 1]\n",
    "        tmax += lDurations[i]\n",
    "        tmaxes.append(tmax)\n",
    "        fif_cropped = raw_ica.crop(tmin=tmin, tmax=tmax, copy=True)\n",
    "        print tmin, tmax, lDurations[i]\n",
    "        print fif_cropped.times[-1]\n",
    "        cropped_filename = eo_ec_split_fif + '_' + str(i) + ext\n",
    "#         fif_cropped.save(cropped_filename, overwrite=True)\n",
    "print 'Split time intervals: ' + str(tmaxes)      "
   ]
  },
  {
   "cell_type": "code",
   "execution_count": 53,
   "metadata": {
    "collapsed": false
   },
   "outputs": [
    {
     "name": "stdout",
     "output_type": "stream",
     "text": [
      "115.5 120.0\n",
      "The copy parameter is deprecated and will be removed in 0.14. In 0.13 the behavior will be to operate in-place (like copy=False). In 0.12 the default is copy=True. Use inst.copy() if necessary.\n"
     ]
    }
   ],
   "source": [
    "print tmin,tmax\n",
    "fif_cropped1 = raw_ica.crop(tmin=tmin, tmax=tmax)\n"
   ]
  },
  {
   "cell_type": "code",
   "execution_count": 50,
   "metadata": {
    "collapsed": false
   },
   "outputs": [
    {
     "name": "stdout",
     "output_type": "stream",
     "text": [
      "The copy parameter is deprecated and will be removed in 0.14. In 0.13 the behavior will be to operate in-place (like copy=False). In 0.12 the default is copy=True. Use inst.copy() if necessary.\n"
     ]
    }
   ],
   "source": [
    "cr= raw_ica.crop(tmin = 10, tmax=20)"
   ]
  },
  {
   "cell_type": "code",
   "execution_count": 51,
   "metadata": {
    "collapsed": false
   },
   "outputs": [
    {
     "data": {
      "text/plain": [
       "10.0"
      ]
     },
     "execution_count": 51,
     "metadata": {},
     "output_type": "execute_result"
    }
   ],
   "source": [
    "cr.times[-1]"
   ]
  },
  {
   "cell_type": "markdown",
   "metadata": {},
   "source": [
    "### Write log"
   ]
  },
  {
   "cell_type": "code",
   "execution_count": 45,
   "metadata": {
    "collapsed": false
   },
   "outputs": [
    {
     "data": {
      "text/plain": [
       "['Data rank after SSS: N/A\\n',\n",
       " 'Sampling freq: 1000.0\\n',\n",
       " 'ECG exclude suggested: [30]\\n',\n",
       " 'EOG exclude suggested: [29, 33, 23]\\n',\n",
       " '\\n',\n",
       " 'ECG exclude final: [30]\\n',\n",
       " 'EOG exclude final: [29, 33, 23]\\n',\n",
       " 'Muscles exclude: []\\n']"
      ]
     },
     "execution_count": 45,
     "metadata": {},
     "output_type": "execute_result"
    }
   ],
   "source": [
    "f = open(results_path + '/' + basename + '_ica.log', 'r')\n",
    "lines = f.readlines()\n",
    "f.close()\n",
    "f = open(results_path + '/' + basename + '_ica.log', 'w')\n",
    "# lines = f.readlines()\n",
    "f.writelines(lines[:-3])\n",
    "f.write('ECG exclude final: ' + str(ecg_inds) + '\\n')\n",
    "f.write('EOG exclude final: ' + str(eog_inds) + '\\n')\n",
    "f.write('Muscles exclude: ' + str(emg_inds) + '\\n')\n",
    "f.close()\n",
    "\n",
    "f = open(results_path + '/' + basename + '_ica.log', 'r')\n",
    "lines = f.readlines()\n",
    "f.close()\n",
    "lines"
   ]
  },
  {
   "cell_type": "code",
   "execution_count": 46,
   "metadata": {
    "collapsed": false
   },
   "outputs": [
    {
     "data": {
      "application/javascript": [
       "IPython.notebook.kernel.widget_manager.get_model('9fee6faec9c14e65a0520a35641948d5').then(function(model) {\n",
       "    model.set('value', IPython.notebook.notebook_name);\n",
       "    model.save();\n",
       "});\n"
      ],
      "text/plain": [
       "<IPython.core.display.Javascript object>"
      ]
     },
     "metadata": {},
     "output_type": "display_data"
    }
   ],
   "source": [
    "notebook_name = widgets.Text()\n",
    "\n",
    "js = \"\"\"IPython.notebook.kernel.widget_manager.get_model('%s').then(function(model) {\n",
    "    model.set('value', IPython.notebook.notebook_name);\n",
    "    model.save();\n",
    "});\n",
    "\"\"\" % notebook_name.model_id\n",
    "display(Javascript(data=js))"
   ]
  },
  {
   "cell_type": "code",
   "execution_count": 47,
   "metadata": {
    "collapsed": false
   },
   "outputs": [],
   "source": [
    "filename = notebook_name.value\n",
    "exporter_names = widgets.Dropdown(options=get_export_names(), value='html')\n",
    "export_button = widgets.Button(description=\"Export\")\n",
    "download_link = widgets.HTML(visible=False)\n",
    "\n",
    "file_writer = FilesWriter()\n",
    "\n",
    "def export(name, nb):\n",
    "    \n",
    "    # Get a unique key for the notebook and set it in the resources object.\n",
    "    notebook_name = name[:name.rfind('.')]\n",
    "    resources = {}\n",
    "    resources['unique_key'] = notebook_name\n",
    "    resources['output_files_dir'] = '%s_files' % notebook_name\n",
    "\n",
    "    # Try to export\n",
    "    try:\n",
    "        output, resources = export_by_name(exporter_names.value, nb)\n",
    "    except ConversionException as e:\n",
    "        download_link.value = \"<br>Could not export notebook!\"\n",
    "    else:\n",
    "        write_results = file_writer.write(output, resources, notebook_name=notebook_name)\n",
    "    \n",
    "        download_link.value = \"<br>Results: <a href='file://{filename}'><i>\\\"{filename}\\\"</i></a>\".format(filename=write_results)\n",
    "        download_link.visible = True\n",
    "        \n",
    "def handle_export(widget):\n",
    "    with open(filename, 'rb') as f:\n",
    "        export(results_path + '/' + cond + '_' + filename , read(f, NO_CONVERT))\n",
    "        \n",
    "export_button.on_click(handle_export)\n",
    "\n",
    "display(exporter_names, export_button, download_link)"
   ]
  },
  {
   "cell_type": "code",
   "execution_count": null,
   "metadata": {
    "collapsed": true
   },
   "outputs": [],
   "source": []
  },
  {
   "cell_type": "code",
   "execution_count": null,
   "metadata": {
    "collapsed": true
   },
   "outputs": [],
   "source": []
  },
  {
   "cell_type": "code",
   "execution_count": null,
   "metadata": {
    "collapsed": true
   },
   "outputs": [],
   "source": []
  }
 ],
 "metadata": {
  "kernelspec": {
   "display_name": "Python 2",
   "language": "python",
   "name": "python2"
  },
  "language_info": {
   "codemirror_mode": {
    "name": "ipython",
    "version": 2
   },
   "file_extension": ".py",
   "mimetype": "text/x-python",
   "name": "python",
   "nbconvert_exporter": "python",
   "pygments_lexer": "ipython2",
   "version": "2.7.11"
  },
  "widgets": {
   "state": {
    "00a30585f0c04fa2a52d13e7b73fa752": {
     "views": []
    },
    "00c4508545e442ab9ca94fe1aefd30ad": {
     "views": []
    },
    "01138aa9caf9484cbe00fc146fa77dfa": {
     "views": []
    },
    "016847cb3ac74bc4aa3bd8c889a651e1": {
     "views": []
    },
    "028a076518bd4f64b6e5506b99575356": {
     "views": []
    },
    "0322768f91d44bf6bddf350ad5cdec97": {
     "views": []
    },
    "032bc256c17e44a294147a791649f1c3": {
     "views": []
    },
    "0364cd2b27e643f69482d939f740180f": {
     "views": []
    },
    "0385b81f2b5a4136aa60a2eb2ed6309b": {
     "views": []
    },
    "049660f1ecaa46bf8b9501f816619053": {
     "views": []
    },
    "04bdb17577294b899e6881b18c3a962f": {
     "views": []
    },
    "059c5210c2c94b16bf83af85b10ea14b": {
     "views": []
    },
    "05cf1fae125e4aceba4e7b61fed73e58": {
     "views": []
    },
    "05f73a40a2c44789b825969e614fd4ce": {
     "views": []
    },
    "06f281ae9be64b1b86d8470cd4aedd00": {
     "views": []
    },
    "072001fc473a41bda8d05a57c583e70e": {
     "views": []
    },
    "073b307338d447b9bfe4337ec03cd454": {
     "views": []
    },
    "0771a321a8044392b985a303cdb9cdd3": {
     "views": []
    },
    "080b3911cf844cb8bd8b349ef76b973e": {
     "views": []
    },
    "0866f4e016ce47b2b71f54482e84db05": {
     "views": []
    },
    "0880b426a61246c399230166452509f2": {
     "views": []
    },
    "0882059ee73d4a4aa3abcfbe98b465e7": {
     "views": []
    },
    "08bc242c043f4796973dc12e3561105a": {
     "views": []
    },
    "08c4be0b8783448f96f7d35d34e33b39": {
     "views": []
    },
    "08f956aa577f4657be64393006f9c5e9": {
     "views": []
    },
    "094fd46be29243fc86f150b98d96da38": {
     "views": []
    },
    "09774e02e22b41419ff26ba38306ac20": {
     "views": []
    },
    "09987a0efabc49968d8f5211719c14b6": {
     "views": []
    },
    "0a5c1e8685e248fabd8cad04bd6c6ffd": {
     "views": []
    },
    "0b7965355c60427e8c30bfee381dd202": {
     "views": []
    },
    "0b9bfd5d2081405db46d56da224306ca": {
     "views": []
    },
    "0c0566ed15174240927fb7dbea74534d": {
     "views": []
    },
    "0ca1d9cf83ed4459ae51950711aca91d": {
     "views": []
    },
    "0ce83cdda1934bc48add8f35b242e262": {
     "views": []
    },
    "0d0759522579441f892a4aec95161d15": {
     "views": []
    },
    "0d235cde28aa41c59679eb573ff31aff": {
     "views": []
    },
    "0dc1d50874dc43c68d2832d502f38785": {
     "views": []
    },
    "0dd4a390a8d44ec092c530da3c181dec": {
     "views": []
    },
    "0e16ad07d5cd4843b8cf501d72311d3f": {
     "views": []
    },
    "0ec3b5ae5b5f42a38f5531003713f6ad": {
     "views": []
    },
    "0ed333cd7725476e9fd9a5c35e72c77d": {
     "views": []
    },
    "0f2167788c714d5b86abf13b0aad8d35": {
     "views": []
    },
    "0f42411961474ab5bbf95dc606961f3e": {
     "views": []
    },
    "0fd41072fd3e46699b5562d27d03044b": {
     "views": []
    },
    "1021f3643276484ca68826d7ee2be4d6": {
     "views": []
    },
    "108a1c37193247ca841d8f9468c76ed8": {
     "views": []
    },
    "10a14bc4c3504d4f82c3b945174b95c5": {
     "views": []
    },
    "10e7e43832604f6dabb2630afa132205": {
     "views": []
    },
    "10f4c9a7cbf0491f980ef602e784d738": {
     "views": []
    },
    "1146e3128a2d47c28c5c9248288f871e": {
     "views": []
    },
    "115ceafeab2040ea8f1978ca2a68e373": {
     "views": []
    },
    "122faa5df3d7488da14cca35a43d947d": {
     "views": []
    },
    "1238e78e5b374e60b3cb11cbe49f099a": {
     "views": []
    },
    "12d9bad624a644c380cf8d39c44340ec": {
     "views": []
    },
    "1311a8f671404378aeb6ccb6c7d01d90": {
     "views": []
    },
    "14570b36d6a6467fad7571e86c15b378": {
     "views": []
    },
    "14797fa4cd2044cb8961edf994d71321": {
     "views": []
    },
    "14ae2e09fe354f1f966481dc0734e722": {
     "views": []
    },
    "14c0e36f0c58488883995e9a48e26d3b": {
     "views": []
    },
    "1541238cd5b8471783b7fa1fba44911f": {
     "views": []
    },
    "1549065828ae4bd88a82b54feeb608a2": {
     "views": []
    },
    "15c5a79a186e420ea4cf2ae5d444ea0c": {
     "views": []
    },
    "15dfb7ff8d05467db7a9108ae45079df": {
     "views": []
    },
    "165d0a7011a44407a3595bd2c3192040": {
     "views": []
    },
    "16a3dc44dfe54e5b89ed374014b1dbe8": {
     "views": []
    },
    "16e46e11a81f4c13a688e15e30192108": {
     "views": []
    },
    "16ec81e2c06a413880db42e08f4cfa4c": {
     "views": []
    },
    "183443de3b054cc580f08ca5162d0fda": {
     "views": []
    },
    "18356fc5354d412abe5446941af9b8a6": {
     "views": []
    },
    "188a86b2fe554b7494a7e07051d8f4ed": {
     "views": []
    },
    "19a49bcf8a614923a8badbbae7db13e5": {
     "views": []
    },
    "19db2dd679cf435b9c4e946bfb4e82ee": {
     "views": []
    },
    "1aa7c9d5ea9147c2a3a84d55a217aacd": {
     "views": []
    },
    "1af2b418f45341cfb5919597192f1c35": {
     "views": []
    },
    "1b508234e3d54ef3a1068e52279819af": {
     "views": []
    },
    "1b738e61b7c949228541de8a55a46339": {
     "views": []
    },
    "1b7af0ec5dac4d8aaafefd11050c7ec5": {
     "views": []
    },
    "1b97a57613054002b178bc5d7841f10c": {
     "views": []
    },
    "1bee28f5ecec47d5915ee0b9fc04e283": {
     "views": []
    },
    "1c496af18f484280891200a1986c782e": {
     "views": []
    },
    "1ca286dde8994e48b5b960c4445c85be": {
     "views": []
    },
    "1cc1ed5d47dd46208a18d3f8e7f14d42": {
     "views": []
    },
    "1cda62ca13554fd4a2769afbb694c729": {
     "views": []
    },
    "1cdd331b97154a24bbde69dafdf49f95": {
     "views": []
    },
    "1d42dc7f80a243478430a4a8ec14b269": {
     "views": []
    },
    "1d7164b18e224755ba9111359f944f13": {
     "views": []
    },
    "1dce055d64514362932160498dfc040e": {
     "views": []
    },
    "1df085980a034f19a95c3e19de703401": {
     "views": []
    },
    "1e0ab7f3f3ca437b838563d85e4397d2": {
     "views": []
    },
    "1f15400a18d0472197b59be709a27a7e": {
     "views": []
    },
    "20037eff9ae249da83dca320259b8e7f": {
     "views": []
    },
    "2049d3491168423c971c3567663932e1": {
     "views": []
    },
    "20748f8065fd493786f74167114d2bad": {
     "views": []
    },
    "20aee4888e4b4be084debb4e09040500": {
     "views": []
    },
    "210eea5f900e43d290d8c6fe5e2c9382": {
     "views": []
    },
    "21235bc80e964145a8c47c5003061fb4": {
     "views": []
    },
    "21246407df1b44f6b15fe7e124377a08": {
     "views": []
    },
    "21743615a0844ff38309e154b63a7c5f": {
     "views": []
    },
    "219ba3ac8477450094067d8666e78cff": {
     "views": []
    },
    "22e3d74930da4912abe57b9c91f08341": {
     "views": []
    },
    "2352402da9ac43fcb8004053a38ddabc": {
     "views": []
    },
    "23f6f98ea8cb4e7abaca8082927afe2f": {
     "views": []
    },
    "267d025a51344b669c3f9c0f594b4a13": {
     "views": []
    },
    "270475715a2c429ea021e95651bc9208": {
     "views": []
    },
    "2771b1cc3e714ff987424c5315f44eae": {
     "views": []
    },
    "27e03fce7ca94d1cbe84f5fb8f5cd57b": {
     "views": []
    },
    "27f068fd4e3d4cefb80b3d675379bb3a": {
     "views": []
    },
    "2844e66d9e7a41b08bd846dcaba40995": {
     "views": []
    },
    "284a4fb7f9a246bc9bb2125922ba3937": {
     "views": []
    },
    "28f66bcce7e743da8455ae80a795e76c": {
     "views": []
    },
    "2943d23adb3a43d9a36aecf850767945": {
     "views": []
    },
    "29897be567f6487e96e3ec997c0f3c8c": {
     "views": []
    },
    "2a1c3904fd7641298b42280de3fb5b40": {
     "views": []
    },
    "2a3075d7745041c69f9bb7558a0bb42d": {
     "views": []
    },
    "2a8c2486c17f4cc4bde0c4587d6a3306": {
     "views": []
    },
    "2a9483a50deb458e9036f5abfe75404e": {
     "views": []
    },
    "2ac969539d3e4aa0830d8c2b52ef35a5": {
     "views": []
    },
    "2b0618fb9675419892bf0fac083fb888": {
     "views": []
    },
    "2b6afc9c7c134588b9cac1bf0046d9a2": {
     "views": []
    },
    "2bd0134b8f5f4b738a8411655b5bf718": {
     "views": []
    },
    "2c77177660bb4116b5eac7cf5647bee1": {
     "views": []
    },
    "2c8735891f234cdf9babcd863b401f50": {
     "views": []
    },
    "2cb9540f36eb47bb83311e76d0590225": {
     "views": []
    },
    "2d57228c4ed848618e6339c2f38870ed": {
     "views": []
    },
    "2e1856879b284e8282146d8f4b3c1183": {
     "views": []
    },
    "2e2dffd3701c4a97a8c17b6c5bbd5a1e": {
     "views": []
    },
    "2e3e0ad1a0474bdf89ead3877f5fa7c5": {
     "views": []
    },
    "2e8fde3106eb4f388109de6cf1b56545": {
     "views": []
    },
    "2f7b53ec60db45dca4be57d6a38071c6": {
     "views": []
    },
    "2fb0c2c57f5d4d188c9280d804782b3b": {
     "views": []
    },
    "2fb9ce8a4549499abb0f006f627712ff": {
     "views": []
    },
    "2fc73f5bf5db4b2abcb51c9796d37dda": {
     "views": []
    },
    "310e33c86b524a93ae5cdea4f2384325": {
     "views": []
    },
    "3182ad37002f4f46be31732e93c9a114": {
     "views": []
    },
    "319f62b21213427da277a4e60b5eeea4": {
     "views": []
    },
    "31edbac0094c464590cd8ea089fc007b": {
     "views": []
    },
    "325401303c254ce3b1de2d01304064f0": {
     "views": []
    },
    "325c815615594b39879d6509bae6a868": {
     "views": []
    },
    "331e18bb08934af3ae3de9cfaff902a5": {
     "views": []
    },
    "33438c34ae2b444c92dfc2f03709ba87": {
     "views": []
    },
    "33706348188b49078e4400ef05317213": {
     "views": []
    },
    "342be10dc1dc45f5a34dc667b2dc91f4": {
     "views": []
    },
    "352bbf3a08a24681bc98a35175a6db7a": {
     "views": []
    },
    "358ca68dcacd4e80a8b25c8c37c4868d": {
     "views": []
    },
    "35a0771c99a141feb83e9a1d23b6f485": {
     "views": []
    },
    "360e6d13082c49ecb477f87132913f2c": {
     "views": []
    },
    "36696dc03d22471a863954a59ab70f55": {
     "views": []
    },
    "36bc2cc5d1e448e7bce1ab9bbfd8f5fb": {
     "views": []
    },
    "36f6826793da41d095e58e8f826689f8": {
     "views": []
    },
    "375791d7f4c94c0c8028a3378c861919": {
     "views": []
    },
    "376c3e87977e42c18e7562c9485589ea": {
     "views": []
    },
    "383785e7cdfb4addbefd470ece704f43": {
     "views": []
    },
    "391415f0ee36450299942ab4d151fce3": {
     "views": []
    },
    "395c52cb4c374f0e9cf186c052c759bb": {
     "views": []
    },
    "397d140369ce459f82c8c33db3bc2ec4": {
     "views": []
    },
    "3ab1e7b1b2bb42669c5c60eb37ed6a43": {
     "views": []
    },
    "3ab21bcce40f436284c3dcbc56141d21": {
     "views": []
    },
    "3b616c494f4c497dae7ccf8ab3aa0dd7": {
     "views": []
    },
    "3b70ea1e708748bdba310811d369b1fb": {
     "views": []
    },
    "3b9609c38b9c4ec09e2d23cea7a4d1ba": {
     "views": []
    },
    "3c466971a7014471bde7b5c25b7236b2": {
     "views": []
    },
    "3cfe1348e103483a9eea70e3f33b21f2": {
     "views": []
    },
    "3d4ca99f439947709da7cbb2f5965c6d": {
     "views": []
    },
    "3d71114a88e94655a5caf3311f739cda": {
     "views": []
    },
    "3d90c9d481d7403794feb6f67fad0d75": {
     "views": []
    },
    "3de88ee33b594d6c903493adbf150986": {
     "views": []
    },
    "3dfd796a3e7c480e9d5e41e007ff8b6b": {
     "views": []
    },
    "3e396510d5e74ab69bdae245d7eb1208": {
     "views": []
    },
    "3ec99823b0d544f2b93148b06a077cac": {
     "views": []
    },
    "3ed3a3181cec4c59a94b85b31fbfce47": {
     "views": []
    },
    "3ed5e45e1b4e4b3290916ee070a1a5e4": {
     "views": []
    },
    "3efd2638c0d8417d82e8bb81a01fe1ec": {
     "views": []
    },
    "3f7f49af5cb246aebfb26284c9df75b4": {
     "views": []
    },
    "4002c9f944604cd69649aa329d2abb26": {
     "views": []
    },
    "400a1e5cab3f4bffaade4082183c53d9": {
     "views": []
    },
    "400cec12769645fc87a0913865d64bb9": {
     "views": []
    },
    "401470cce4d04e58a6e692ee7e8bf837": {
     "views": []
    },
    "40a23290d8894f688d75282dfbfdbfb5": {
     "views": []
    },
    "40c8e40b2335461cad80da4d0ee11dbb": {
     "views": []
    },
    "41995d01d2fd401f8e1e2490dfb30b66": {
     "views": []
    },
    "419d8e2c63f944f196bf0f517c603aad": {
     "views": []
    },
    "41a4d581a15f40a6a08decc79c711d27": {
     "views": []
    },
    "4266d49bbb3c4225a9920d881a54a111": {
     "views": []
    },
    "42fbf5b5f7754e21baf99805fcad03c5": {
     "views": []
    },
    "4337b12ddfbc4376b57f0181d9d5b807": {
     "views": []
    },
    "434b2f0d986943f48c1700e4d81f69f5": {
     "views": []
    },
    "4375374e41e942378d1c1e6f24411d33": {
     "views": []
    },
    "43f12261173c4d4db0f8d33692711907": {
     "views": []
    },
    "44546f1c97914491b61df742d6930d9e": {
     "views": []
    },
    "44776e106b56431bb22047a9353fc1b5": {
     "views": []
    },
    "45f0228e7b5e405bbb1b8a50cf6ac3e4": {
     "views": []
    },
    "468723a8f222407c96acfd9bb049ba8c": {
     "views": []
    },
    "468d9157a68f404dbf71d5b41d3e15ff": {
     "views": []
    },
    "47207cf68b914f44beeecc4d483fc2a2": {
     "views": []
    },
    "47be41bf13ca4d8f8c40982ca3fa1972": {
     "views": []
    },
    "483a35dcfe6942ea84b5043d473cdc4d": {
     "views": []
    },
    "4868461dbb544619ac1c64e3e9405e71": {
     "views": []
    },
    "48a593a0f6b1459a866cdd6124d7a06a": {
     "views": []
    },
    "48ca3e18eb504af0abd23b08bbe101fd": {
     "views": []
    },
    "4929c987163243b3903d0fc3e10f36e3": {
     "views": []
    },
    "492f30fd35af4beea3838b2bc7728984": {
     "views": []
    },
    "493ba986eaed4bf78144be43cd38c2b6": {
     "views": []
    },
    "499d579e29ed40d79c6c1a06c757575e": {
     "views": []
    },
    "49b17687b0a34b8ca373fc884ca2ad44": {
     "views": []
    },
    "4a74fcf2d5fc43ab92e8675c8a8d4632": {
     "views": []
    },
    "4b4b44c3c792424598db13d42b100fc5": {
     "views": []
    },
    "4bc76d34889b4723825135758693ca2b": {
     "views": []
    },
    "4bdec1cf856f4f63b278e520b9af4e85": {
     "views": []
    },
    "4bf6b4f56d904aec939d589d00150a5e": {
     "views": []
    },
    "4c24c0ce60dc44f9b84b19684d4a9d9e": {
     "views": []
    },
    "4ca5ba74bc154b00b78e2275c2a92606": {
     "views": []
    },
    "4cee5ee89d1143719d5f71c87823c819": {
     "views": []
    },
    "4cfee67d6bfd435dbbc1a1f837cde945": {
     "views": []
    },
    "4d0c21e8f1104ef8aa15a672928f185b": {
     "views": []
    },
    "4d3462c797814e35824eefd886ec43f1": {
     "views": []
    },
    "4d48f0e5d9264f66a47930933aaaf4fa": {
     "views": []
    },
    "4d8f09e7596b4d6b8e87012595c68573": {
     "views": []
    },
    "4da5faea709249629ce6f8bb1e085d79": {
     "views": []
    },
    "4db60e58c18e4c1d80743e97093f9b8d": {
     "views": []
    },
    "4ddd1c5f97c84e66a947fa6541c3fcdd": {
     "views": []
    },
    "4df7bea34dfa4c4092f513d329cc9311": {
     "views": []
    },
    "4e4a944189d542878507c4d0884a3843": {
     "views": []
    },
    "4e592ac3ab0a4840a319bec9b89e82cc": {
     "views": []
    },
    "4eae408a35ac451f81f9ea7e072c0936": {
     "views": []
    },
    "4ebfac68c1044a9ea9e0b2218b6afd50": {
     "views": []
    },
    "4ed5c552fb484e599193d5204f5c37a1": {
     "views": []
    },
    "4f00dbd040b1433fbd5323f60bdc21c4": {
     "views": []
    },
    "4f51bdcfd3d9475992e8d43b7bf09dc6": {
     "views": []
    },
    "4fad1794654a43929795edec690e2994": {
     "views": []
    },
    "4fbac786fed24dd6994cebb6bd7e5036": {
     "views": []
    },
    "50d8bc0cf2bf4a99a395dc1844ef45c5": {
     "views": []
    },
    "523f2a2d8ddd46a6a26c6c691701f974": {
     "views": []
    },
    "530f608e780a4b91b2f046ef608baf2a": {
     "views": []
    },
    "537cdf62fa204574a817ece10f6f9e37": {
     "views": []
    },
    "541fd31eb2f94518ab15d86540b8d5f3": {
     "views": []
    },
    "54d69680d9684a6fb15e02e3216c9faf": {
     "views": []
    },
    "54e29464311b45fb91245ffdcf7279f4": {
     "views": []
    },
    "553dfb3a7ec44d72935db490afe0910c": {
     "views": []
    },
    "5563b02da49e42fa9ab610db68331191": {
     "views": []
    },
    "557e17d0da9c40c8971650812d450d4c": {
     "views": []
    },
    "559898599c54493f89cd81044dbaea93": {
     "views": []
    },
    "55a0915ae8e1441aab8bcc4e6410c4e2": {
     "views": []
    },
    "55ae75ce814e43f09ea752d12df2da6b": {
     "views": []
    },
    "55d9cb12841d46bbb01943523391da2e": {
     "views": []
    },
    "56adb47e2696402a9e59106a27868ebc": {
     "views": []
    },
    "56f7d01fb707448f9138e4385446410f": {
     "views": []
    },
    "5744ce27cef14931a8bd712a30e92ba9": {
     "views": []
    },
    "57723d90f85e4d5a8dccbb99a061056c": {
     "views": []
    },
    "5792dbe53fde4aad9cf4adb8a8b16f18": {
     "views": []
    },
    "57a9e741aa1e4f5a891aa4ef0ea6f977": {
     "views": []
    },
    "5816b910b56f495488d1e528d593d040": {
     "views": []
    },
    "5871083788fd41ccb567e3961d6f2ae5": {
     "views": []
    },
    "58826837044e47a99b7be47c167388a2": {
     "views": []
    },
    "58921372a2234449ab8352fe52819538": {
     "views": []
    },
    "589d5865b4c04036808fb21595ca2ad8": {
     "views": []
    },
    "58f708b6ab0d4fd9a68e0f774385926b": {
     "views": []
    },
    "5949bea2edfa4710a4891085685dc0dd": {
     "views": []
    },
    "5996e17cbc3d42ac9c55d095239cc83b": {
     "views": []
    },
    "59a0e7e0221d4c6f9c63774a901e289b": {
     "views": []
    },
    "5a078d90f9bb48d688c0ce8190ebdcbc": {
     "views": []
    },
    "5a441da2df7e4651b8684f958468fe54": {
     "views": []
    },
    "5a9dfb13a0484b75990fcb5d7b0ab05a": {
     "views": [
      {
       "cell_index": 5
      }
     ]
    },
    "5aed4ba4c17c477c8dc7e9de12b3c4f1": {
     "views": []
    },
    "5b838ce1a3a94fc4b7f59d7d82617dc4": {
     "views": []
    },
    "5ba87fe003aa479fa02797682dca024c": {
     "views": []
    },
    "5be1d8bf3f164f269973f6eb519a4236": {
     "views": []
    },
    "5c4288988c4f4a1ea682c992a2ba2b33": {
     "views": []
    },
    "5c57f7a98422439cae0db738bfdaefe0": {
     "views": []
    },
    "5c5bab48c6bd4e1e8da0b2e2e999aff0": {
     "views": []
    },
    "5cfa2eb3d460449d9fde2df194f3961d": {
     "views": []
    },
    "5d62cc81e59c4889bbfd06aa59995808": {
     "views": []
    },
    "5e05ee23873f4576bcfd7f17d9a041d3": {
     "views": []
    },
    "5e4479854d0a410492d697872c563b92": {
     "views": []
    },
    "5e8c29322c54475e825720e2b4b26c13": {
     "views": []
    },
    "5ed2efdfea7c44a583ad8e01a6d36390": {
     "views": []
    },
    "5f4b84845ba94ec696934130ff59e62d": {
     "views": []
    },
    "5fbc4bad975a4fdc9965ffa4262b7509": {
     "views": []
    },
    "5fc3b230f74f4dc891b47222d5429a90": {
     "views": []
    },
    "5fd57012046a45da860ab0b56e7e7f94": {
     "views": []
    },
    "600f434fbf4b418097d55fba00455068": {
     "views": []
    },
    "6093c955580f4fb0bbd6b18484141d4a": {
     "views": []
    },
    "60ac5888b02944bb86fc4260d1e3bf02": {
     "views": []
    },
    "60dce0cea9bd41b6a8e862fbb5e3ecf3": {
     "views": []
    },
    "6103fc9948f6464b821c642c4ba02a94": {
     "views": []
    },
    "6118c185c65c4f7b940fd9469f208cbf": {
     "views": []
    },
    "617b39d9f28c48e9a0a6c377c0384765": {
     "views": []
    },
    "61bca183b76149e89e60d5b32891907f": {
     "views": [
      {
       "cell_index": 5
      }
     ]
    },
    "61cae1ae7aec417c955d30590a40c3e0": {
     "views": []
    },
    "61f0b4ad27fa4d419370d1328bb77e27": {
     "views": []
    },
    "61f932557c4340888a41d97a3386e8ae": {
     "views": []
    },
    "62010f57071c49b69c323e356f95c3f6": {
     "views": []
    },
    "62417f2dc4c64a269b8f74a086c53d61": {
     "views": []
    },
    "6272131f7b30454ebc61debc04ffac25": {
     "views": []
    },
    "6346ac2117df49779eb1fe44860c6e95": {
     "views": []
    },
    "6362b866326c4f9e9380acf78e7550c4": {
     "views": []
    },
    "63e6b1c077e54af3ab0bb93db628d07b": {
     "views": []
    },
    "647a1162d9244962918e527d2e13a942": {
     "views": []
    },
    "650944588a724e1390b564dde6712e82": {
     "views": []
    },
    "65190d79e4874037bd6cf137d8e0259a": {
     "views": []
    },
    "654191869dbc46aca8994634b165e8a0": {
     "views": []
    },
    "654a2a7115954e3cb6a3148e8ad6ae26": {
     "views": []
    },
    "65c33e70b4644a56b489ec27a1586c55": {
     "views": []
    },
    "66973394ee324157a5500fb0c168f777": {
     "views": []
    },
    "66ac422c100b4eb6b18f16d74a43b6db": {
     "views": []
    },
    "66b2327a98754bc586b874a98867d930": {
     "views": []
    },
    "66c7fa98de2d42738a1441fb466f4c49": {
     "views": []
    },
    "66c8d176f3db4ad2b1b67b9334d8e88d": {
     "views": []
    },
    "66d483c7aa6945f2a471970d39fbc3c5": {
     "views": []
    },
    "66e16a9e37ca4d75b8cf01120c6c83fc": {
     "views": []
    },
    "66fa28400663486bb5092980e09632bd": {
     "views": []
    },
    "677a25e713f54e1ea349935db301fd0d": {
     "views": []
    },
    "679f4ea232fc49498159002184b35050": {
     "views": [
      {
       "cell_index": 5
      }
     ]
    },
    "67aba6704cd04df0a04162b8444192f2": {
     "views": []
    },
    "67ed8187aac34e6099a7923866ccbc3c": {
     "views": []
    },
    "6820208e21e54eb6ba1d695dbdf1fc58": {
     "views": []
    },
    "687d191db16a4031a2e0ce957476e2da": {
     "views": []
    },
    "68b1ef34680848bdbfeb2046bc3ca5bd": {
     "views": []
    },
    "68bc1ca3ec964b65901048c3b23e71fe": {
     "views": [
      {
       "cell_index": 18
      }
     ]
    },
    "6979014970474596b213e01c1167bcf0": {
     "views": []
    },
    "697c5212e7494de69d9877b97cea821d": {
     "views": []
    },
    "6989e153e8e64d1fabc426bbed66faaf": {
     "views": []
    },
    "69d65773d16c49ec9cd17a8c27745135": {
     "views": []
    },
    "69fa26bc3a004aa18a668df76d82bff4": {
     "views": []
    },
    "6a21a185ec664884904e0fa66632f88a": {
     "views": []
    },
    "6a4881596fc94d6b9996ee726adbff8e": {
     "views": []
    },
    "6a731cb791bd4fcc92cac451f588905e": {
     "views": []
    },
    "6b4a07b07c9d4d2ab9e6e577bf52d3dc": {
     "views": []
    },
    "6b56942e5dfd469dac063f48e28d420f": {
     "views": []
    },
    "6b66a41f5ae34cdd8f3305e01a1eeb8c": {
     "views": []
    },
    "6b7c451e7275458bb5aa488d514c470b": {
     "views": []
    },
    "6c18587fd0624c1b9d71e06f7a38439a": {
     "views": []
    },
    "6c29356b502f428eaa3ff9cbda4c2223": {
     "views": []
    },
    "6cd3403594594a94b1f79f7a2e7e53e5": {
     "views": []
    },
    "6d1faa15077a40698a1a3bf6bc84072c": {
     "views": []
    },
    "6d3506fd04284425bbbc336c7b5184ee": {
     "views": []
    },
    "6d64c63553054e1a9f999b030dca5d2c": {
     "views": []
    },
    "6d9678a8500245c994affa0f5690f399": {
     "views": []
    },
    "6e1ecc3f10f941f9b2dab3f9249c9937": {
     "views": []
    },
    "6e514f4018cb4b9d8b49c02ef88e54f0": {
     "views": []
    },
    "6ee7e383678249a99f49425b8bef7fd5": {
     "views": []
    },
    "6ee91203ac20457bbab8376494470065": {
     "views": []
    },
    "6efe6f34f13c48a5b8a12a5bb98515c0": {
     "views": []
    },
    "6f5499b4fdd54cc79f9d8a957c880ff0": {
     "views": []
    },
    "6fd8fd6de52c43f1809c8860469aace9": {
     "views": []
    },
    "6fd9bc839e65462eb3d14a23dfaab974": {
     "views": []
    },
    "7068c550bac146b38b210c6d6cf15ae2": {
     "views": []
    },
    "70877354d94440deb81fcf968ee8df78": {
     "views": []
    },
    "70919b5bba364cadb787b6480088c532": {
     "views": []
    },
    "70958c990c674ca1b96bbf6bae8a2d42": {
     "views": []
    },
    "7099d96961df4ef6b6f1069a40dbf95d": {
     "views": []
    },
    "70db0d9bac3a459ab1df702c49ebffd0": {
     "views": []
    },
    "70e2542440df408c8639fb3669a9c29c": {
     "views": []
    },
    "71ab16ea46e14afbbc624fc39b620f2d": {
     "views": []
    },
    "71df19d20231484e95b3df95f46aa4c0": {
     "views": []
    },
    "7219b9c087424d688e9710b7059cc4d9": {
     "views": []
    },
    "725ca7fb833b496d985216b770ed719e": {
     "views": []
    },
    "72a09942d4494794b9b7d4252beaf117": {
     "views": []
    },
    "72d671099c83435e8f3fc972bbfce0a8": {
     "views": []
    },
    "72ddeeb4dc3d44d2b34df6101b674ea2": {
     "views": []
    },
    "73351706a0d44863a77e36a76da872e6": {
     "views": []
    },
    "7354d321d25248fa9e7cd759c0b716f0": {
     "views": []
    },
    "73d3c98d536f411db59032b104ddd8dc": {
     "views": []
    },
    "73db9c13fe1a42048ed2b54064aa95b2": {
     "views": []
    },
    "7409806013844474842bd9114d085e27": {
     "views": []
    },
    "7437a17c4754483188c6244d30ded497": {
     "views": []
    },
    "74aa6a2cadb2498dba224ae3762ee969": {
     "views": []
    },
    "763d23f01dd14afd98b6533b4ef73b30": {
     "views": []
    },
    "764728fd2672494483314bc7915e645f": {
     "views": []
    },
    "76cc427b107c4dd9867f23841887b98a": {
     "views": []
    },
    "7705c229e28e48bc9150f67bb849e3ed": {
     "views": []
    },
    "770f1b303f55458aaa94570fbdd8e9b7": {
     "views": []
    },
    "7738c14a1e8345f9b569f9f7673b1fce": {
     "views": []
    },
    "7867bd6a396743bc8c52e479b724c6a5": {
     "views": []
    },
    "7878e990903e459282f5db070e0245b2": {
     "views": []
    },
    "78e667fc05654fde9886cdb41ed934ac": {
     "views": []
    },
    "790a471a06d7481b826beb23329d2633": {
     "views": []
    },
    "795465bab8a54d0b9c85ed2f86fd6f59": {
     "views": []
    },
    "79a3f76d5f7d4e6ab8e73f7f32d7619f": {
     "views": []
    },
    "7a2d1300973841c3b1827c68641a730a": {
     "views": []
    },
    "7a408cbe66a14b97ad532623d8f01a11": {
     "views": []
    },
    "7aeaa722685c4e1e84424816deec49b8": {
     "views": []
    },
    "7b30efd080cd4be8a5085e666bcccc90": {
     "views": []
    },
    "7b533362705b417db2754f9e72ee383c": {
     "views": []
    },
    "7bd135477baf4b418410d9bcf405b13d": {
     "views": []
    },
    "7d15c108ed8f4d1bae57c6baa8011eab": {
     "views": []
    },
    "7de95f4241d04e60ab045e97e5701af7": {
     "views": []
    },
    "7f466d0a6d4a40ba805ebd0ea87d7baa": {
     "views": []
    },
    "7f70bf8567ac4247ae3b750a4fda1944": {
     "views": []
    },
    "7fa155944372405a824077b818cce4fb": {
     "views": []
    },
    "80f06b33b8d74cb29ed3eca8690ead8d": {
     "views": []
    },
    "82a1509c7c6c408bb555bf30ef34af44": {
     "views": []
    },
    "82bc8b69837d44cb918126a03137dbcb": {
     "views": []
    },
    "841ca44e008147feba0e5764055a182e": {
     "views": []
    },
    "8437067f3c584fd1a375711b926f98d0": {
     "views": []
    },
    "843a6bf8cccb4d2483b008ec8506a1e9": {
     "views": []
    },
    "84431c34fac34893b44d0a80f962c868": {
     "views": []
    },
    "848f0c446e444d6e8ae4791c3c05076e": {
     "views": []
    },
    "84aed74f1e744bd095b7871a1866c482": {
     "views": []
    },
    "852ab25be27b4160ac7213b28c61c306": {
     "views": []
    },
    "859787747e6c4f43be6694a6dea15ede": {
     "views": []
    },
    "85a115d763a243328e7ed28514570c7b": {
     "views": []
    },
    "86295d5652ef4080b4a77620babb6400": {
     "views": []
    },
    "86882dd8e1b348fda3dcdf38a139ffb3": {
     "views": []
    },
    "86e4d50caa3047b78c7cf6a7da32ab65": {
     "views": []
    },
    "86e55afb97504a6ea4994e768407c2b0": {
     "views": [
      {
       "cell_index": 5
      }
     ]
    },
    "8745650a19cd44d991192b07b8478477": {
     "views": []
    },
    "87d52478173742e9b8133042f192a58d": {
     "views": []
    },
    "87d96dd1e4314f9ea82de43c452adbc0": {
     "views": []
    },
    "881b134cf94f4947a3c4a6c86436bfa6": {
     "views": []
    },
    "8a2274ac8ba24d448f1099fa209b95d1": {
     "views": []
    },
    "8a677668040d4b9f9a2469e2251f80f7": {
     "views": []
    },
    "8a89c991c5db45bf8e8b9d21e946b04f": {
     "views": []
    },
    "8aaef0fa6f304b5aa956be6388f82526": {
     "views": []
    },
    "8ac07ba32df548a593c3389b3019828b": {
     "views": []
    },
    "8b0c5df3cc6e4d24a86468b81d563ce4": {
     "views": []
    },
    "8bb7f9957b14442d86813a408337088d": {
     "views": []
    },
    "8c34506464b4415fbf957a0eeb38204e": {
     "views": []
    },
    "8c849e481bd340d9abef37551ee5d270": {
     "views": []
    },
    "8ca2139633de40209d0cfc2539cc1c63": {
     "views": []
    },
    "8cb0974607f640af89e15d72b98caac3": {
     "views": [
      {
       "cell_index": 12
      }
     ]
    },
    "8ce178e916654d44aca5d9609a280938": {
     "views": []
    },
    "8d329bdf4ac14470b2aca2f1a20e7ccf": {
     "views": []
    },
    "8d8704df16a74591a1490c043ebe3009": {
     "views": []
    },
    "8ddccbbae390491d995d5a4cc06638a3": {
     "views": []
    },
    "8e1c2e12b51c42f98bdfa0360806d4fe": {
     "views": []
    },
    "8ec4a32079e3434fa32cab5e46f2f62e": {
     "views": []
    },
    "8eee8f4354ec4800aa6107435565c4ea": {
     "views": []
    },
    "900e25b080834aac84945ebf426c6b12": {
     "views": []
    },
    "905f43d738ae41bb87935acbfb5565e1": {
     "views": []
    },
    "90b40c3fc5894c43971b7320d955ff66": {
     "views": []
    },
    "90bebb0bde9842be882b2cf1ba08c615": {
     "views": []
    },
    "914a88dde6d24a41b2cc4a99f7b3a332": {
     "views": []
    },
    "91f9885174ec451998359f40c2b7a41d": {
     "views": []
    },
    "920bb2c3ec4e4a159a34190d7eff0dae": {
     "views": [
      {
       "cell_index": 5
      }
     ]
    },
    "925e15b3cf1442a6ac88fcc4d7e33f8d": {
     "views": []
    },
    "925ee65468e24dc3ba2e0a55cecff6b8": {
     "views": []
    },
    "92bfbcc35f2547ffa71a081cd1d6e295": {
     "views": []
    },
    "9340ebeb58c74f9994df2e9f4a7bc4af": {
     "views": []
    },
    "9365db4784d34c98b45f26b2aae02bd5": {
     "views": []
    },
    "936a738e147c424f9cd664d398384fec": {
     "views": []
    },
    "946e210128b9453995450496a7d76108": {
     "views": []
    },
    "94961bc10810438c99084bd6d63166b8": {
     "views": []
    },
    "9498892db8ac42dd9873e1f41aedb0e7": {
     "views": []
    },
    "953ca0e82106417d85c145b9a69c2737": {
     "views": []
    },
    "9585d7b5abbf44ce8ad11ed20f64d754": {
     "views": []
    },
    "9599a35875d04ea7b37b26687c764062": {
     "views": []
    },
    "9610fcc67ad648c282658c4a8bd94d67": {
     "views": []
    },
    "964c1d3ac6b94578941e1baf1b083d15": {
     "views": []
    },
    "9652599a8d044a1bb5a5b8bfa6f30ead": {
     "views": []
    },
    "9655ee9ec19d4ae9898af123038226cf": {
     "views": []
    },
    "96e7aa4699ef48ab8f138500463f5a29": {
     "views": []
    },
    "9768c09908ab4bdba4e7acdbdb92594a": {
     "views": []
    },
    "979753bbac6b42449bc349fd2a3b7c25": {
     "views": []
    },
    "9827aa4eff5e401989550763f4642c3c": {
     "views": []
    },
    "9829f4b11c4442558b29c2d6d6f29bd9": {
     "views": []
    },
    "9a37b66469f4469da63748dcbabc471e": {
     "views": []
    },
    "9a3c8cca559c48db8084e9225009c01b": {
     "views": []
    },
    "9ab6e682e84a4fdb883bb572e08a8f35": {
     "views": []
    },
    "9bbc63b1e5c8463991e5b74d903aa5ca": {
     "views": []
    },
    "9c023f41ab0c4ba79e6571c41c26730f": {
     "views": []
    },
    "9c6d997c9fcd4757a6d6fbda4dba54c0": {
     "views": []
    },
    "9cf01a1597144662944d437b597f60fb": {
     "views": []
    },
    "9d2cd4fef0a2444eb2d7293e7a2ef77b": {
     "views": []
    },
    "9dafd95035d74a2497a6845a20269cc4": {
     "views": []
    },
    "9dea4daa3fb74b2090157f23ead1e713": {
     "views": []
    },
    "9e2f71068aaf44f29cf48c45059ab7f3": {
     "views": []
    },
    "9e4cea30c01640f7bf47bad1acea7611": {
     "views": []
    },
    "9eeb5f26123047ef8dccb20914f09673": {
     "views": []
    },
    "9f361069a3eb4674a23f33250d05f8f8": {
     "views": []
    },
    "9fdeceb4fc594982ac2c645bee56f0fa": {
     "views": []
    },
    "a0028965dc154428ac1e77333d282ac7": {
     "views": []
    },
    "a00d391fe06d4c8cb398c44c2dfb12c0": {
     "views": []
    },
    "a034f21561334ebf8430f949ebed404a": {
     "views": []
    },
    "a062a915e3484df99e2818c1538db57a": {
     "views": []
    },
    "a07d0c57ac444cd2b135f0002302eac8": {
     "views": []
    },
    "a135f151ee7345acae7999bd35337f97": {
     "views": []
    },
    "a1a529a5c8754bf695f77a0930db634d": {
     "views": []
    },
    "a2046672ba3c4442b194183f6bdc82a9": {
     "views": []
    },
    "a29746ae6b05476499962b3567514cc7": {
     "views": []
    },
    "a319fa65280345b1a2ccb3ef6c89c23a": {
     "views": []
    },
    "a3a5d33f25f94949981d41252fd09b65": {
     "views": []
    },
    "a3c2c0704e094729b5c367bc3a90a993": {
     "views": []
    },
    "a42cfde239dc499899278b7a70f2e4db": {
     "views": []
    },
    "a468bbe4d1594eec939cccd822838898": {
     "views": []
    },
    "a4aeb22761d249e7b3103b69fe5aedff": {
     "views": []
    },
    "a4dc309708be49e6b2c0fdd8fb25bba1": {
     "views": []
    },
    "a4fccad45c644b2687b3a3fd4e986d22": {
     "views": []
    },
    "a515c641acfd41d895cc34e6fbc0dd79": {
     "views": []
    },
    "a595f9262dfa4249913c1f345aad731e": {
     "views": []
    },
    "a5aa045d2bcf4bb79f7c384546e8bdfa": {
     "views": []
    },
    "a7198b35f99a469e8dcc3bca95a3a638": {
     "views": []
    },
    "a7d66e75a11245798a30dcf5f7a2a357": {
     "views": []
    },
    "a80c5c52e12245ba9f00c01f36403bbc": {
     "views": []
    },
    "a80c6335be934d23a8a84a2f901c1abc": {
     "views": []
    },
    "a88786746acf4897ac0549fd038c0a8b": {
     "views": []
    },
    "a94aaa5d69254b4fb9468bd2dd3d8036": {
     "views": []
    },
    "aa242b7064ae4b2fba546187c65789ef": {
     "views": []
    },
    "aaf4b2b4d87841a0843fe81cc219c12f": {
     "views": []
    },
    "ab7b9329ee1c407db32b45ef71f993ed": {
     "views": []
    },
    "acac39f9c9af45468b2cca68366592d0": {
     "views": []
    },
    "adc7f9424a58462cbbd026577c2e5cb3": {
     "views": []
    },
    "adfd07ace9a144c3bf955291b9fef5cd": {
     "views": []
    },
    "ae1fccfdc0fa4fa2936b485c5304e983": {
     "views": []
    },
    "aec0899a548743a4956065bb58e950d4": {
     "views": []
    },
    "afa467d24c4f47b2b6cad5fdaa0dd2b4": {
     "views": []
    },
    "b0085408512446e3b6e9d37b07bb04af": {
     "views": []
    },
    "b037bce7731943e8aa82cf096170b490": {
     "views": []
    },
    "b05ef5d237924cc78353fabaa13de158": {
     "views": []
    },
    "b084a749397f4c04addb18d7898cc4f3": {
     "views": [
      {
       "cell_index": 5
      }
     ]
    },
    "b1cc07216cde45ab80b40164b0cd57e9": {
     "views": []
    },
    "b1dbfb3403094b77aa53e74593d12895": {
     "views": []
    },
    "b1e4014ea72c406a98c78383a90055f8": {
     "views": []
    },
    "b1e9c6b0c7574703a6fdf4c5e4fe3ade": {
     "views": []
    },
    "b2667be3f93248ad9bb498c1d9b72771": {
     "views": []
    },
    "b28ed5d006094d3cbbc95d2249acfd41": {
     "views": []
    },
    "b28f0a89083e4e728bd815e3f2de4762": {
     "views": []
    },
    "b2c5e9b5b0f54786aa643d691e1808f2": {
     "views": []
    },
    "b2e4cb269c034ef1b8b782578c586733": {
     "views": []
    },
    "b30ae83b0b4d45dda6ec418734419a87": {
     "views": []
    },
    "b368563a9e0746fb959519cdb570f2fd": {
     "views": []
    },
    "b3c4ca5ea2544ff69ea5f7d0e281f29e": {
     "views": []
    },
    "b42a4ff8d39347ebb3ce44dafdf7deb3": {
     "views": []
    },
    "b44cb672fec14c7cb57453074136ca48": {
     "views": []
    },
    "b47040434d64460ea2c95c79f1e30199": {
     "views": []
    },
    "b4ef3445479e480b9f40373faf530e9a": {
     "views": []
    },
    "b54ec76dd4704e868703a5c06337cb3a": {
     "views": []
    },
    "b598b7710b26463bbbe6c5c720452271": {
     "views": []
    },
    "b5bd49157c5445198caeb3bdd2dd0256": {
     "views": []
    },
    "b5c54291606740a1888a63eb3b6b3b28": {
     "views": []
    },
    "b61b221770fb4f3ca05a6da54fdcae3d": {
     "views": []
    },
    "b67ea2a5b2e145a9a1b7cbdf24b0e82e": {
     "views": []
    },
    "b6932631bb664ed5aaaeaee982e6e5ef": {
     "views": []
    },
    "b6a2f6d7059d428e9a133eb32eb5b5e7": {
     "views": []
    },
    "b6d6203f31c24024bc2e90d3b0b640b2": {
     "views": []
    },
    "b7143f81bc654b5ea99d9499f5b2104e": {
     "views": []
    },
    "b8748ac8c4734a349b04bbea36b3f068": {
     "views": []
    },
    "b88dfe7bd3324632bc2f226f057176ea": {
     "views": []
    },
    "b89e47aaed2046629e04b13af74a8baf": {
     "views": []
    },
    "b97619bef1824246b7bfb9abb8551837": {
     "views": []
    },
    "b991c567b53048f68ea5add3540e170f": {
     "views": []
    },
    "b9f711cb9a43466f9863914487f859bf": {
     "views": []
    },
    "ba2c281503d7437eab8120bb5478ee82": {
     "views": []
    },
    "baada5fbd2eb48c69417b22b880309c5": {
     "views": []
    },
    "bbeb6efacc9f4332a6af71bc38917634": {
     "views": []
    },
    "bc69c57938324beb868932ff40a61bd2": {
     "views": []
    },
    "bc9667c31742497d82640bffe976bc8a": {
     "views": []
    },
    "bd3bf4d50b994d9fbab223e10c77070e": {
     "views": []
    },
    "bd57393d73254394bba7828b076c4960": {
     "views": []
    },
    "be8fe82c87d6401a868ffd497a809b25": {
     "views": []
    },
    "bf6afc26a17146479a86242999461612": {
     "views": []
    },
    "c06beab2d8424740b2a9e655cdf9e716": {
     "views": []
    },
    "c0c6d74fc6e24dfbb71ff0b085c62dd7": {
     "views": []
    },
    "c0febcef62704b17bd9acc5124526183": {
     "views": []
    },
    "c1bc5249acf04096bdb85e28f9718201": {
     "views": []
    },
    "c20f87b657f84a3c921520a08b2f82d8": {
     "views": []
    },
    "c215fbf8ff45465a87eabd36f5910a9c": {
     "views": []
    },
    "c22d5ea60cef4a57b33bc52d868abcb7": {
     "views": []
    },
    "c282bde0ca664b4783081594f65d6085": {
     "views": []
    },
    "c2e482b2c1e94f44ae9457595b8d41d1": {
     "views": []
    },
    "c31c9edcc2ce4dabbc21dfd3d3d3ba05": {
     "views": []
    },
    "c32d6ed62d0d4e4aaebb54eeacfc87fc": {
     "views": []
    },
    "c35b6d16f88a439bba2b5c9ca09f576d": {
     "views": []
    },
    "c387164a4428400ea4ee103eeea6ea3e": {
     "views": []
    },
    "c39f4e9c74c046d5b20d85c207a7b044": {
     "views": []
    },
    "c3b3aee76c154851b55ccc0449340fde": {
     "views": []
    },
    "c3b3ee5d2c2948a08455767068765bf9": {
     "views": []
    },
    "c499d2c0abfc44f8b02bb8c0b6672e3d": {
     "views": []
    },
    "c4b1fbd4754947abbb17889d044e7844": {
     "views": [
      {
       "cell_index": 5
      }
     ]
    },
    "c50d29f2173d4c5ebf92ba6beead3833": {
     "views": []
    },
    "c5a6cbf40e174a3e8e145d60c4ac9f99": {
     "views": []
    },
    "c63cdc0deebf40e5a91065ef87ea57fd": {
     "views": []
    },
    "c7f7a25901cf40389abc1b3c5563b1e8": {
     "views": []
    },
    "c8182fdae6b54ff7badd80fc4386cdda": {
     "views": []
    },
    "c8b7579ef77241f9b33ccaf660b7ef07": {
     "views": []
    },
    "c8f97b8d8e194e0aae8db7004553331c": {
     "views": []
    },
    "c9bf6951b89040e79a00c85344fdf42b": {
     "views": [
      {
       "cell_index": 6
      }
     ]
    },
    "ca281daf732f42c084d143737d53595a": {
     "views": []
    },
    "ca43cfcc5bcb40e5b61454bd37442552": {
     "views": []
    },
    "ca77efa5b3a9474a9eeb548aab9163d6": {
     "views": []
    },
    "caa6f4ede07c440c8c79cc8b5a1339f3": {
     "views": []
    },
    "cadb1b4061034ed6a06ea476a5e517b1": {
     "views": []
    },
    "caddc4fdbc184121860f9c0b1b836254": {
     "views": []
    },
    "cb4bc033a28c4df49c191c8df045dbfc": {
     "views": []
    },
    "cb657f773edd407fb5265646d8f93b5e": {
     "views": []
    },
    "cb7c71fbde8a42989c1da9a225061705": {
     "views": []
    },
    "cc4ef3df4871402b8f26d17b081d3a53": {
     "views": []
    },
    "cc60466444894c2784aa93627c15605c": {
     "views": []
    },
    "ccc9d1ae646147588d2d989ee229db5d": {
     "views": []
    },
    "cd5a1425e24b44a1bcc5ed1ee55a9feb": {
     "views": []
    },
    "cdad862cdd7f4c93914a6f125902d42e": {
     "views": []
    },
    "cde84efccd13472fb7a150b8fe237bc8": {
     "views": []
    },
    "cf02058604064d1aa74331f11edc4a2e": {
     "views": []
    },
    "cf8a001515c74115b1756eb54c750a36": {
     "views": []
    },
    "cff478b1a73f4ff0be07c9fb46753e8b": {
     "views": []
    },
    "d08714c961774ee0ac0aed906adb1711": {
     "views": []
    },
    "d130409c29294173b4a13cff9ce06293": {
     "views": []
    },
    "d2202dc3d6e140faae92e17c5eeccedb": {
     "views": []
    },
    "d236e965e14a4112b1f03ff3948628eb": {
     "views": []
    },
    "d251fe80ce664c2ebe2a1ca0a366df0b": {
     "views": []
    },
    "d27288efaecc4dc4bb792de80b473ffc": {
     "views": []
    },
    "d298d96060194fa687d127f438038cc5": {
     "views": []
    },
    "d35d5abb27ac407a9061b95ee8d8070a": {
     "views": []
    },
    "d3773b287e7445a4a47b1f08eee51582": {
     "views": []
    },
    "d37d5ff40bde454cab38b56b01284fde": {
     "views": []
    },
    "d480ea7bf1194a4493483d7bd3d749d9": {
     "views": []
    },
    "d4a062e769674b72bd62e30613bcedec": {
     "views": []
    },
    "d4ccb0c87cd941aa81f4397a32aa41f8": {
     "views": []
    },
    "d521903c46804ea187e28590d5e8ed08": {
     "views": []
    },
    "d5e7befa34e64c93b1de98b766842467": {
     "views": []
    },
    "d6bba1ae99bf46639094a560aa8a17ce": {
     "views": []
    },
    "d6cc779b2b8e496e85cb3a7f7a5556d6": {
     "views": []
    },
    "d8901b10af46427baac69a7865d17897": {
     "views": []
    },
    "d8cead30561c46b4be6962b76eed1577": {
     "views": []
    },
    "d8d6b8b6ba6c4ec981c68b9a41550ca5": {
     "views": []
    },
    "d8da7d09cddf44a3b64d341bf0ba6bf9": {
     "views": []
    },
    "d90a17492b904d2d9dfd1ec6be20d956": {
     "views": []
    },
    "d92eef2531d243209aa3e95c123b4718": {
     "views": []
    },
    "d9627cafadc84ddd8405d756d6697fc5": {
     "views": []
    },
    "d9c58e088eb24df08c18105f54832196": {
     "views": []
    },
    "da4322953a1b4ba48510697a19819ebf": {
     "views": []
    },
    "da655c36607d468d82bce3a0350e0cfe": {
     "views": []
    },
    "da74feb19ccd4b0a94bc63e9bbb89e06": {
     "views": []
    },
    "dabb98fc42c74c10b200ac8555d136c8": {
     "views": []
    },
    "dabc35c3a04148b0a248ccf027734be0": {
     "views": []
    },
    "db08a78978b94b4ea9ac599324b7bb08": {
     "views": []
    },
    "db5843c6665f4963891f49d582248607": {
     "views": []
    },
    "db85d788d6f64197ad8d5c0c98c851a1": {
     "views": []
    },
    "dbd3dcc21356463a8bb3a91bc5f8fa01": {
     "views": []
    },
    "dc0e8b8c11f14343bdabdb16873c7a9c": {
     "views": []
    },
    "ddc3e0a006b447308ac00dc6d671bfb0": {
     "views": []
    },
    "de477c650bfe471a8783b548f955f516": {
     "views": []
    },
    "de59eac2b8ac4ab5b972f6fc72dc7a3c": {
     "views": []
    },
    "de8b2227aa274933bd27a3cf71a74d6d": {
     "views": []
    },
    "dea79bcfd34945509244b3d7344d27e2": {
     "views": []
    },
    "df4a947b89ac48d696f67a89a60b8ebd": {
     "views": []
    },
    "df4fb5cd87814179ba50b670e9ef6674": {
     "views": []
    },
    "dfbd1cd1f1764722a2a3b4467f363dca": {
     "views": []
    },
    "dfd4a976c7714d0a94ae8e4f45187c09": {
     "views": []
    },
    "dfe0598d97b54746aaf380b31b311e3b": {
     "views": []
    },
    "e02b21aad06e4a6ea56aad8cd0eaa7eb": {
     "views": []
    },
    "e05e66e2ad4d4a3ab832aae5bc8889aa": {
     "views": []
    },
    "e07ef22749fa4affa09679b7d8f89a42": {
     "views": []
    },
    "e08b80c2ffeb440e85b1591bacb77e59": {
     "views": []
    },
    "e0cd95d8d73346c0a76b1eef047ef6af": {
     "views": []
    },
    "e0dedaf33869449fb2634774018fd0e8": {
     "views": []
    },
    "e1456d373ba845298cd5e809f64f1646": {
     "views": []
    },
    "e18460e97ef440ad9d45de31158d4d91": {
     "views": []
    },
    "e1a308691788410e9135944e6c1d1551": {
     "views": []
    },
    "e1ae372ce264476bb87d0a7d39be22e4": {
     "views": []
    },
    "e1f508cf1c0b4580b8b1f45b49adf8fb": {
     "views": []
    },
    "e201107119e94621916c865046ed8437": {
     "views": []
    },
    "e21be33b2407465c914360db8dbe032a": {
     "views": []
    },
    "e27445ddc5724f08872c5b90d97280de": {
     "views": []
    },
    "e2d9a5ddf3e44248b2a291f1db0ba612": {
     "views": []
    },
    "e2ef36a4930d46fca75f1c7a216a31d4": {
     "views": []
    },
    "e3e35e207751469281cc10fb3ac111e6": {
     "views": []
    },
    "e40a2c0d4cac4360b670fc2a07a47cbd": {
     "views": []
    },
    "e48c22a55a7146bb96066d17a75419ff": {
     "views": []
    },
    "e515f463d83540daaec5844ada39bcb6": {
     "views": []
    },
    "e556e3a049814380822bcd601580c0b7": {
     "views": []
    },
    "e55ceea977b948f9900fb3d69b27dac7": {
     "views": []
    },
    "e563238e1bd24994aa2f532905234a4a": {
     "views": []
    },
    "e576507703aa4009bc3c82a249475943": {
     "views": []
    },
    "e596d27c3ced44d6a237d6803962833a": {
     "views": []
    },
    "e599db4a5e914ba98d1ef2904be00ac7": {
     "views": []
    },
    "e5dc754a8f43404ea433397ded079600": {
     "views": []
    },
    "e5f43eac39aa474a95fca4c5dd6878e5": {
     "views": [
      {
       "cell_index": 5
      }
     ]
    },
    "e6149c58fb514f57a0deca78a05e7914": {
     "views": [
      {
       "cell_index": 14
      }
     ]
    },
    "e6c139dfcf314c7aa57f9292e7d066c5": {
     "views": []
    },
    "e734ef6b2bb449608d009323515b0a7e": {
     "views": []
    },
    "e7967689707f414b836757d3e8c9ed94": {
     "views": []
    },
    "e7ef9eeff86b408b88f1b810cf12ab0a": {
     "views": []
    },
    "e839ba42e5494452821dcd22e69df769": {
     "views": []
    },
    "e88c762b6b5242d7a1bb40e719d9da75": {
     "views": []
    },
    "e97be71562564631b1abe25504f36b4a": {
     "views": []
    },
    "ea3ae283f6a04312a3d7c299c6d13bf8": {
     "views": []
    },
    "ea6defe6f0b74b4aaeaa7450b29607e1": {
     "views": []
    },
    "eaad1aa6d3ab4c99ae4018b96fff7dab": {
     "views": []
    },
    "ec2b45627cf84e0c8b7f879ebeedb6ea": {
     "views": []
    },
    "ec5d4c7bd73d42ca802cde6ad7e610c2": {
     "views": []
    },
    "ecb1c69c6822477995c3a3c9b7d771fd": {
     "views": []
    },
    "ece7b0317461485b8954d90971645e23": {
     "views": []
    },
    "ed42900564e7458ab2c38a9ddd487320": {
     "views": []
    },
    "ee9a3e6de9e74ad58fbe85cd77dbede6": {
     "views": []
    },
    "eed08226cf164754973b3962eb29c2c8": {
     "views": []
    },
    "ef7ae27c65024501b3852209f8353896": {
     "views": []
    },
    "ef9ffdc8325e4d569f51e6e2a21495c1": {
     "views": []
    },
    "f014280978d040cb8b5e5f7755b0cc1e": {
     "views": []
    },
    "f0422725d0814812a60536323522e74a": {
     "views": []
    },
    "f05640695fcd481aae8df7aae62434a4": {
     "views": []
    },
    "f0631b714f924b9b9766eecdbbb24fdd": {
     "views": []
    },
    "f080a372a3a5477288f07f8e354f33fa": {
     "views": []
    },
    "f1421aa29a774a2e9545ef87435cee53": {
     "views": []
    },
    "f14ee63e745e4937af2fd17d47c75cda": {
     "views": []
    },
    "f15decfdf24e4fcfa509d167223ca905": {
     "views": []
    },
    "f24f1549550343358791d18c8a559276": {
     "views": []
    },
    "f29c4273ccca4af5b8b2a3d144f76045": {
     "views": []
    },
    "f2ce82e540b6473aa116f9ebf9421a0e": {
     "views": []
    },
    "f30ab013feed4268aa14136c69ef5eee": {
     "views": []
    },
    "f36ac1afafe540a6911d51dbea48de10": {
     "views": []
    },
    "f37a7aa70ef242869cceb2a395f3379e": {
     "views": []
    },
    "f39bba4618484ded8fbeb39cc55d40ca": {
     "views": []
    },
    "f3dbf92ff6f94506b46eff4c3a71bc47": {
     "views": []
    },
    "f478b46bba5343a9a70c35b6673346fb": {
     "views": []
    },
    "f49896239a5b49e9a8f9ffc75ac09753": {
     "views": []
    },
    "f4e523486678401eb7a7f07110479587": {
     "views": []
    },
    "f52ee3aee4c7460a989d82d9eabc1926": {
     "views": []
    },
    "f5733240b74b4f4480338cdbf17368a0": {
     "views": []
    },
    "f5f11c0faca94f26b3eb358ed2e4b97d": {
     "views": []
    },
    "f679b358b9fd4afd81d93fc7627aa795": {
     "views": []
    },
    "f6b5e2b98da843eb9f8754f79c1d3bd9": {
     "views": []
    },
    "f6b6d28f7913423d8a58c3cfb3ff90df": {
     "views": []
    },
    "f6e4247c1f2f48f087c798497233337d": {
     "views": []
    },
    "f78747e7e5814b9484c6bdc684139e15": {
     "views": []
    },
    "f7b1f71fd17f4c5da8020b6ce5dd0255": {
     "views": []
    },
    "f7cb2478a7e1415a93d766d09efd2253": {
     "views": []
    },
    "f832453eb4a54f3082ddd32fd41df6de": {
     "views": []
    },
    "f8880f43051d42d68486e6377fe2d43d": {
     "views": []
    },
    "f9775efabe3c43029fa630a0f1aaa3fe": {
     "views": []
    },
    "f9c4277ebc4840ea96e8280d6463bd2f": {
     "views": []
    },
    "fa16d99ace7b4195bb4326040920b148": {
     "views": []
    },
    "fb678ecbda5a4c4183a82632b958beb9": {
     "views": []
    },
    "fbcab815feb74e029fc0cabb9c38f173": {
     "views": []
    },
    "fbf8571929d046e5a3eb061a29446611": {
     "views": []
    },
    "fc08639ac4c74bb6a7e4fac73a5802eb": {
     "views": []
    },
    "fc3b02a081e34fcfa1806dffe05d51a1": {
     "views": []
    },
    "fcac506b3a1d4d2d99f75c5271c20e4e": {
     "views": []
    },
    "fd6dbd436aa842b4adecfb6a317e2723": {
     "views": []
    },
    "fdab70de9418492090d7dbe51f5b786f": {
     "views": []
    },
    "fe10beb0fd47421390fe37fd9cb7c46c": {
     "views": []
    },
    "fe7394d16ea249658a3be411302776a3": {
     "views": []
    },
    "feef02a7e2da49bdb2e1ba251e69c0cb": {
     "views": []
    }
   },
   "version": "1.1.1"
  }
 },
 "nbformat": 4,
 "nbformat_minor": 0
}
